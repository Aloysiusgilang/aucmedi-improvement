{
 "cells": [
  {
   "cell_type": "code",
   "execution_count": 1,
   "id": "d1c2282e-c165-42ca-ad7d-3a5fcfc307c8",
   "metadata": {},
   "outputs": [],
   "source": [
    "import os\n",
    "os.environ[\"CUDA_VISIBLE_DEVICES\"]=\"1\""
   ]
  },
  {
   "cell_type": "markdown",
   "id": "7755d039-9d06-4d42-85a2-61243a30e4f9",
   "metadata": {},
   "source": [
    "# Explainable AI (XAI)"
   ]
  },
  {
   "cell_type": "markdown",
   "id": "19eaa1be-6073-4325-ae73-dcd079a85b45",
   "metadata": {},
   "source": [
    "This notebooks shows how to apply explainable AI to the model outcomes using ``AUCMEDI``.  \n",
    "\n",
    "It is the goal of explainability (XAI) to show in human-readable format which features of the input where important for the deep-learning network. This might help for debugging, for example if it is shown that the network learned from background-information that are not important (for example different format of the pictures, or marking symbols etc.)\n",
    "\n",
    "Of course, to apply XAI we first need to train our model. If you know how to do this, you can skip until the XAI part. If you don't, have a look in a corresponding notebook (for explanations) or at the code."
   ]
  },
  {
   "cell_type": "markdown",
   "id": "9d88c76c-1c45-4091-ae1c-2c6a5a8ca137",
   "metadata": {
    "tags": []
   },
   "source": [
    "## Downloading the data"
   ]
  },
  {
   "cell_type": "code",
   "execution_count": 2,
   "id": "96efd29f-24cf-44a8-b882-52ef52474b07",
   "metadata": {},
   "outputs": [
    {
     "name": "stderr",
     "output_type": "stream",
     "text": [
      "2022-08-15 11:09:57.549681: I tensorflow/core/util/util.cc:169] oneDNN custom operations are on. You may see slightly different numerical results due to floating-point round-off errors from different computation orders. To turn them off, set the environment variable `TF_ENABLE_ONEDNN_OPTS=0`.\n"
     ]
    }
   ],
   "source": [
    "cwd = !pwd\n",
    "datadir = cwd[0] + \"/data\"\n",
    "\n",
    "from pathlib import Path\n",
    "\n",
    "Path(datadir).mkdir(parents=True, exist_ok=True)\n",
    "\n",
    "#import wget\n",
    "\n",
    "#print('Beginning file download with wget module')\n",
    "\n",
    "#url = 'https://zenodo.org/record/53169/files/Kather_texture_2016_image_tiles_5000.zip?download=1'\n",
    "#wget.download(url, datadir)\n",
    "\n",
    "# unzip the data\n",
    "\n",
    "#import zipfile\n",
    "#with zipfile.ZipFile(\"data/Kather_texture_2016_image_tiles_5000.zip\",\"r\") as zip_ref:\n",
    "#    zip_ref.extractall(\"data\")\n",
    "\n",
    "from aucmedi.data_processing.io_data import input_interface\n",
    "ds_loader = input_interface(\"directory\", path_imagedir=\"data/Kather_texture_2016_image_tiles_5000\", path_data=None, training=True, ohe=False)\n",
    "(samples, class_ohe, nclasses, class_names, image_format) = ds_loader\n",
    "\n",
    "from aucmedi.sampling.split import sampling_split\n",
    "train, validation, test = sampling_split(samples, class_ohe, sampling=[0.5, 0.25, 0.25], stratified=True, iterative=False, seed=123)"
   ]
  },
  {
   "cell_type": "markdown",
   "id": "4035dc6e-66ec-4050-856f-3eb48facc667",
   "metadata": {},
   "source": [
    "## Define the model"
   ]
  },
  {
   "cell_type": "code",
   "execution_count": 3,
   "id": "164f9815-d621-4b77-8435-97b67b01f1fe",
   "metadata": {},
   "outputs": [
    {
     "name": "stderr",
     "output_type": "stream",
     "text": [
      "2022-08-15 11:09:59.605000: I tensorflow/core/platform/cpu_feature_guard.cc:193] This TensorFlow binary is optimized with oneAPI Deep Neural Network Library (oneDNN) to use the following CPU instructions in performance-critical operations:  AVX2 AVX512F AVX512_VNNI FMA\n",
      "To enable them in other operations, rebuild TensorFlow with the appropriate compiler flags.\n",
      "2022-08-15 11:10:00.252606: I tensorflow/core/common_runtime/gpu/gpu_device.cc:1532] Created device /job:localhost/replica:0/task:0/device:GPU:0 with 22519 MB memory:  -> device: 0, name: NVIDIA TITAN RTX, pci bus id: 0000:40:00.0, compute capability: 7.5\n"
     ]
    }
   ],
   "source": [
    "from aucmedi.neural_network.model import NeuralNetwork\n",
    "import tensorflow_addons as tfa\n",
    "\n",
    "f1Score = tfa.metrics.F1Score(num_classes=nclasses, threshold=0.5)\n",
    "\n",
    "\n",
    "model = NeuralNetwork(n_labels=nclasses, channels=3, loss=\"categorical_crossentropy\", metrics=[\"categorical_accuracy\", f1Score], activation_output=\"softmax\")"
   ]
  },
  {
   "cell_type": "markdown",
   "id": "f153af83-ac97-4c4d-9dda-69c99b337cc3",
   "metadata": {},
   "source": [
    "## Train the model"
   ]
  },
  {
   "cell_type": "code",
   "execution_count": 4,
   "id": "13c9dec3-8156-470d-b454-8cbe03db48cc",
   "metadata": {},
   "outputs": [
    {
     "name": "stdout",
     "output_type": "stream",
     "text": [
      "Epoch 1/20\n"
     ]
    },
    {
     "name": "stderr",
     "output_type": "stream",
     "text": [
      "2022-08-15 11:10:02.524985: I tensorflow/stream_executor/cuda/cuda_dnn.cc:384] Loaded cuDNN version 8100\n",
      "2022-08-15 11:10:03.083006: I tensorflow/core/platform/default/subprocess.cc:304] Start cannot spawn child process: No such file or directory\n"
     ]
    },
    {
     "name": "stdout",
     "output_type": "stream",
     "text": [
      "79/79 [==============================] - 15s 150ms/step - loss: 1.6922 - categorical_accuracy: 0.3516 - f1_score: 0.1222 - val_loss: 1.2006 - val_categorical_accuracy: 0.5408 - val_f1_score: 0.2331\n",
      "Epoch 2/20\n",
      "79/79 [==============================] - 11s 143ms/step - loss: 1.1218 - categorical_accuracy: 0.5592 - f1_score: 0.3975 - val_loss: 0.9489 - val_categorical_accuracy: 0.6408 - val_f1_score: 0.4467\n",
      "Epoch 3/20\n",
      "79/79 [==============================] - 11s 141ms/step - loss: 0.9780 - categorical_accuracy: 0.6240 - f1_score: 0.5020 - val_loss: 0.8207 - val_categorical_accuracy: 0.6928 - val_f1_score: 0.5955\n",
      "Epoch 4/20\n",
      "79/79 [==============================] - 12s 156ms/step - loss: 0.8473 - categorical_accuracy: 0.6708 - f1_score: 0.6003 - val_loss: 0.7210 - val_categorical_accuracy: 0.7264 - val_f1_score: 0.6636\n",
      "Epoch 5/20\n",
      "79/79 [==============================] - 12s 150ms/step - loss: 0.7726 - categorical_accuracy: 0.7028 - f1_score: 0.6476 - val_loss: 0.6421 - val_categorical_accuracy: 0.7712 - val_f1_score: 0.7186\n",
      "Epoch 6/20\n",
      "79/79 [==============================] - 12s 149ms/step - loss: 0.7044 - categorical_accuracy: 0.7380 - f1_score: 0.6895 - val_loss: 0.6097 - val_categorical_accuracy: 0.7792 - val_f1_score: 0.7467\n",
      "Epoch 7/20\n",
      "79/79 [==============================] - 13s 159ms/step - loss: 0.6584 - categorical_accuracy: 0.7500 - f1_score: 0.7271 - val_loss: 0.5864 - val_categorical_accuracy: 0.7856 - val_f1_score: 0.7466\n",
      "Epoch 8/20\n",
      "79/79 [==============================] - 12s 153ms/step - loss: 0.6398 - categorical_accuracy: 0.7472 - f1_score: 0.7209 - val_loss: 0.5108 - val_categorical_accuracy: 0.8112 - val_f1_score: 0.7924\n",
      "Epoch 9/20\n",
      "79/79 [==============================] - 11s 144ms/step - loss: 0.5938 - categorical_accuracy: 0.7780 - f1_score: 0.7597 - val_loss: 0.5162 - val_categorical_accuracy: 0.8048 - val_f1_score: 0.7745\n",
      "Epoch 10/20\n",
      "79/79 [==============================] - 13s 160ms/step - loss: 0.5636 - categorical_accuracy: 0.7848 - f1_score: 0.7713 - val_loss: 0.5292 - val_categorical_accuracy: 0.8152 - val_f1_score: 0.7845\n",
      "Epoch 11/20\n",
      "79/79 [==============================] - 12s 146ms/step - loss: 0.5744 - categorical_accuracy: 0.7856 - f1_score: 0.7694 - val_loss: 0.4961 - val_categorical_accuracy: 0.8144 - val_f1_score: 0.7970\n",
      "Epoch 12/20\n",
      "79/79 [==============================] - 13s 159ms/step - loss: 0.5343 - categorical_accuracy: 0.7988 - f1_score: 0.7865 - val_loss: 0.4686 - val_categorical_accuracy: 0.8224 - val_f1_score: 0.8003\n",
      "Epoch 13/20\n",
      "79/79 [==============================] - 11s 141ms/step - loss: 0.5138 - categorical_accuracy: 0.8076 - f1_score: 0.7996 - val_loss: 0.4539 - val_categorical_accuracy: 0.8272 - val_f1_score: 0.8079\n",
      "Epoch 14/20\n",
      "79/79 [==============================] - 12s 148ms/step - loss: 0.5341 - categorical_accuracy: 0.7956 - f1_score: 0.7863 - val_loss: 0.5553 - val_categorical_accuracy: 0.7912 - val_f1_score: 0.7902\n",
      "Epoch 15/20\n",
      "79/79 [==============================] - 11s 133ms/step - loss: 0.5058 - categorical_accuracy: 0.8020 - f1_score: 0.7966 - val_loss: 0.4364 - val_categorical_accuracy: 0.8344 - val_f1_score: 0.8249\n",
      "Epoch 16/20\n",
      "79/79 [==============================] - 11s 139ms/step - loss: 0.4879 - categorical_accuracy: 0.8192 - f1_score: 0.8072 - val_loss: 0.4383 - val_categorical_accuracy: 0.8336 - val_f1_score: 0.8193\n",
      "Epoch 17/20\n",
      "79/79 [==============================] - 11s 137ms/step - loss: 0.4945 - categorical_accuracy: 0.8216 - f1_score: 0.8134 - val_loss: 0.4912 - val_categorical_accuracy: 0.8120 - val_f1_score: 0.8088\n",
      "Epoch 18/20\n",
      "79/79 [==============================] - 12s 149ms/step - loss: 0.4809 - categorical_accuracy: 0.8140 - f1_score: 0.8058 - val_loss: 0.3985 - val_categorical_accuracy: 0.8536 - val_f1_score: 0.8469\n",
      "Epoch 19/20\n",
      "79/79 [==============================] - 12s 152ms/step - loss: 0.4563 - categorical_accuracy: 0.8232 - f1_score: 0.8157 - val_loss: 0.4050 - val_categorical_accuracy: 0.8384 - val_f1_score: 0.8363\n",
      "Epoch 20/20\n",
      "79/79 [==============================] - 13s 162ms/step - loss: 0.4374 - categorical_accuracy: 0.8352 - f1_score: 0.8307 - val_loss: 0.3900 - val_categorical_accuracy: 0.8488 - val_f1_score: 0.8413\n"
     ]
    }
   ],
   "source": [
    "from aucmedi.data_processing.data_generator import DataGenerator\n",
    "\n",
    "train_generator = DataGenerator(samples=train[0], path_imagedir=\"data/Kather_texture_2016_image_tiles_5000\",\n",
    "                                               resize=model.meta_input, standardize_mode=model.meta_standardize,\n",
    "                                               labels=train[1], image_format=image_format, batch_size=32, data_aug=None, \n",
    "                                               grayscale=False, subfunctions=[], prepare_images=False, \n",
    "                                               sample_weights=None, seed=123, workers=1)\n",
    "val_generator = DataGenerator(samples=validation[0], path_imagedir=\"data/Kather_texture_2016_image_tiles_5000\",\n",
    "                                             resize=model.meta_input, standardize_mode=model.meta_standardize,\n",
    "                                             labels=validation[1], image_format=image_format, batch_size=32, data_aug=None, \n",
    "                                             grayscale=False, subfunctions=[], prepare_images=False, \n",
    "                                             sample_weights=None, seed=123, workers=1)\n",
    "\n",
    "history = model.train(training_generator=train_generator, validation_generator=val_generator, epochs=20, iterations=None, \n",
    "                                         callbacks=None, class_weights=None, transfer_learning=False)"
   ]
  },
  {
   "cell_type": "code",
   "execution_count": 5,
   "id": "4455aed9-16b2-4959-8bef-0e2e32ab06b1",
   "metadata": {},
   "outputs": [
    {
     "name": "stderr",
     "output_type": "stream",
     "text": [
      "/home/main/.local/lib/python3.8/site-packages/plotnine/ggplot.py:719: PlotnineWarning: Saving 6.4 x 4.8 in image.\n",
      "/home/main/.local/lib/python3.8/site-packages/plotnine/ggplot.py:722: PlotnineWarning: Filename: ./plot.fitting_course.validation.png\n",
      "/home/main/.local/lib/python3.8/site-packages/plotnine/utils.py:371: FutureWarning: The frame.append method is deprecated and will be removed from pandas in a future version. Use pandas.concat instead.\n",
      "/home/main/.local/lib/python3.8/site-packages/plotnine/utils.py:371: FutureWarning: The frame.append method is deprecated and will be removed from pandas in a future version. Use pandas.concat instead.\n"
     ]
    },
    {
     "data": {
      "image/png": "[encoded data removed]",
      "text/plain": [
       "<Figure size 640x480 with 1 Axes>"
      ]
     },
     "metadata": {},
     "output_type": "display_data"
    },
    {
     "name": "stdout",
     "output_type": "stream",
     "text": [
      "\n"
     ]
    },
    {
     "name": "stderr",
     "output_type": "stream",
     "text": [
      "/home/main/.local/lib/python3.8/site-packages/plotnine/ggplot.py:719: PlotnineWarning: Saving 6.4 x 4.8 in image.\n",
      "/home/main/.local/lib/python3.8/site-packages/plotnine/ggplot.py:722: PlotnineWarning: Filename: ./plot.fitting_course.accuracy.png\n",
      "/home/main/.local/lib/python3.8/site-packages/plotnine/utils.py:371: FutureWarning: The frame.append method is deprecated and will be removed from pandas in a future version. Use pandas.concat instead.\n",
      "/home/main/.local/lib/python3.8/site-packages/plotnine/utils.py:371: FutureWarning: The frame.append method is deprecated and will be removed from pandas in a future version. Use pandas.concat instead.\n"
     ]
    },
    {
     "data": {
      "image/png": "[encoded data removed]",
      "text/plain": [
       "<Figure size 640x480 with 1 Axes>"
      ]
     },
     "metadata": {},
     "output_type": "display_data"
    },
    {
     "name": "stdout",
     "output_type": "stream",
     "text": [
      "\n"
     ]
    }
   ],
   "source": [
    "from aucmedi import *\n",
    "from aucmedi.evaluation.fitting import *\n",
    "\n",
    "evaluate_fitting(\n",
    "    train_history = history,\n",
    "    out_path = \"./\",\n",
    "    monitor=[\"loss\"],\n",
    "    prefix_split=\".\",\n",
    "    suffix=\"validation\",\n",
    "    show=True\n",
    ")\n",
    "\n",
    "evaluate_fitting(\n",
    "    train_history = history,\n",
    "    out_path = \"./\",\n",
    "    monitor=[\"accuracy\"],\n",
    "    prefix_split=\".\",\n",
    "    suffix=\"accuracy\",\n",
    "    show=True\n",
    ")"
   ]
  },
  {
   "cell_type": "markdown",
   "id": "0f0fd0fc-668c-4482-b9d4-80b74ab9fdb7",
   "metadata": {},
   "source": [
    "## XAI"
   ]
  },
  {
   "cell_type": "markdown",
   "id": "e9cc0d5b-830f-4985-9798-d4d26ac8de7b",
   "metadata": {},
   "source": [
    "Now we will first apply XAI on a single image, just to see how it works in principle. Of course XAI can be applied on all images using a loop.  \n",
    "\n",
    "The XAI-images are generated with ``AUCMEDI``s ``xai_decoder``. The ``xai_decoder`` takes as inputs a ``DataGenerator``, a ``NeuralNetwork`` model and the ``predictions`` of a model. Furthermore you can specify the XAI-``method``, gradcam is the default. Other methods can be found [here](https://frankkramer-lab.github.io/aucmedi/reference/xai/methods/). With the argument layerName you can specify a layer for the heatmap computation. Default is the last layer. alpha define the transparency for heatmap overlap, when plotted on an image. When an out_path is defined, the XAI-images (heatmaps overlaid over image) are saved here. \n",
    "\n",
    "We are going apply the XAI on the first image of the test set, so that's test[0][0]."
   ]
  },
  {
   "cell_type": "code",
   "execution_count": 6,
   "id": "6312e5ac-73fb-4e04-a07b-0f70f6e92a2c",
   "metadata": {},
   "outputs": [
    {
     "data": {
      "text/plain": [
       "'05_DEBRIS/11393_CRC-Prim-HE-08_024.tif_Row_301_Col_451.tif'"
      ]
     },
     "execution_count": 6,
     "metadata": {},
     "output_type": "execute_result"
    }
   ],
   "source": [
    "test[0][0]"
   ]
  },
  {
   "cell_type": "code",
   "execution_count": 7,
   "id": "62ba0312-65a9-4ee8-9755-a8fa52edca0b",
   "metadata": {},
   "outputs": [
    {
     "name": "stderr",
     "output_type": "stream",
     "text": [
      "/home/main/.local/lib/python3.8/site-packages/tqdm/auto.py:22: TqdmWarning: IProgress not found. Please update jupyter and ipywidgets. See https://ipywidgets.readthedocs.io/en/stable/user_install.html\n"
     ]
    },
    {
     "name": "stdout",
     "output_type": "stream",
     "text": [
      "1/1 [==============================] - 0s 237ms/step\n"
     ]
    }
   ],
   "source": [
    "from aucmedi.xai.decoder import xai_decoder\n",
    "path_xai = \"xai_gradcam/\"\n",
    "\n",
    "# Create a DataGenerator for data I/O\n",
    "datagen = DataGenerator([test[0][0]], \"data/Kather_texture_2016_image_tiles_5000\", labels=None)\n",
    "\n",
    "# Make some predictions\n",
    "preds = model.predict(datagen)\n",
    "\n",
    "# Compute XAI heatmaps via Grad-CAM (resulting heatmaps are stored in out_path)\n",
    "xai_decoder(datagen, model, preds, method=\"gradcam\", out_path=path_xai)"
   ]
  },
  {
   "cell_type": "markdown",
   "id": "d1aad614-d253-4399-9da0-2a25d53609e9",
   "metadata": {},
   "source": [
    "Here is our image. The gradcam-heatmap highlights which parts were most relevant for the ``NeuralNetwork`` for the classification.\n",
    "\n",
    "Gradcam works to following: Output-Feature-Maps of the Convolutional-Layers are taken and every channel of this Map is weighted with the gradient of the class that is predicted. Therefore it is shown (in the heatmap) how much the input-image activates the class."
   ]
  },
  {
   "cell_type": "code",
   "execution_count": 9,
   "id": "0369baa6-bfda-43f5-bc45-151f44bfcae9",
   "metadata": {},
   "outputs": [
    {
     "data": {
      "image/png": "[encoded data removed]",
      "text/plain": [
       "<PIL.TiffImagePlugin.TiffImageFile image mode=RGB size=150x150>"
      ]
     },
     "metadata": {},
     "output_type": "display_data"
    }
   ],
   "source": [
    "import os\n",
    "\n",
    "xai_file = test[0][0].replace(os.sep, \".\")\n",
    "\n",
    "from PIL import Image\n",
    "img = Image.open(path_xai + xai_file)\n",
    "img.show()"
   ]
  },
  {
   "cell_type": "markdown",
   "id": "3d04278b-c9a9-40ba-bf7c-d81f61bd012e",
   "metadata": {},
   "source": [
    "Let's use the same image and apply another XAI method: Lime  \n",
    "\n",
    "Lime generates Superpixels. The Superpixels are generated by a segmentation of the image into different meaningful parts. This Superpixels are switched on and off and this way pictures are generated were some Superpixels are switched on and others of. The Lime-Algothims calculates the influence of every Superpixel on the prediction of the class. The Superpixel with the greatest influence are shown."
   ]
  },
  {
   "cell_type": "code",
   "execution_count": 10,
   "id": "dc755fe8-b3fd-4369-bc15-dd7117a3cb4d",
   "metadata": {},
   "outputs": [
    {
     "name": "stdout",
     "output_type": "stream",
     "text": [
      "1/1 [==============================] - 0s 72ms/step\n"
     ]
    },
    {
     "name": "stderr",
     "output_type": "stream",
     "text": [
      "  0%|          | 0/1000 [00:00<?, ?it/s]"
     ]
    },
    {
     "name": "stdout",
     "output_type": "stream",
     "text": [
      "1/1 [==============================] - 0s 112ms/step\n"
     ]
    },
    {
     "name": "stderr",
     "output_type": "stream",
     "text": [
      "  1%|          | 10/1000 [00:00<00:17, 56.18it/s]"
     ]
    },
    {
     "name": "stdout",
     "output_type": "stream",
     "text": [
      "1/1 [==============================] - 0s 28ms/step\n"
     ]
    },
    {
     "name": "stderr",
     "output_type": "stream",
     "text": [
      "  2%|▏         | 21/1000 [00:00<00:12, 78.71it/s]"
     ]
    },
    {
     "name": "stdout",
     "output_type": "stream",
     "text": [
      "1/1 [==============================] - 0s 37ms/step\n"
     ]
    },
    {
     "name": "stderr",
     "output_type": "stream",
     "text": [
      "  3%|▎         | 30/1000 [00:00<00:12, 77.68it/s]"
     ]
    },
    {
     "name": "stdout",
     "output_type": "stream",
     "text": [
      "1/1 [==============================] - 0s 25ms/step\n"
     ]
    },
    {
     "name": "stderr",
     "output_type": "stream",
     "text": [
      "  4%|▍         | 40/1000 [00:00<00:11, 83.43it/s]"
     ]
    },
    {
     "name": "stdout",
     "output_type": "stream",
     "text": [
      "1/1 [==============================] - 0s 23ms/step\n"
     ]
    },
    {
     "name": "stderr",
     "output_type": "stream",
     "text": [
      "  5%|▌         | 53/1000 [00:00<00:09, 98.34it/s]"
     ]
    },
    {
     "name": "stdout",
     "output_type": "stream",
     "text": [
      "1/1 [==============================] - 0s 23ms/step\n"
     ]
    },
    {
     "name": "stderr",
     "output_type": "stream",
     "text": [
      "  7%|▋         | 69/1000 [00:00<00:07, 117.03it/s]"
     ]
    },
    {
     "name": "stdout",
     "output_type": "stream",
     "text": [
      "1/1 [==============================] - 0s 23ms/step\n",
      "1/1 [==============================] - 0s 30ms/step\n"
     ]
    },
    {
     "name": "stderr",
     "output_type": "stream",
     "text": [
      "  8%|▊         | 82/1000 [00:00<00:09, 94.92it/s] "
     ]
    },
    {
     "name": "stdout",
     "output_type": "stream",
     "text": [
      "1/1 [==============================] - 0s 45ms/step\n"
     ]
    },
    {
     "name": "stderr",
     "output_type": "stream",
     "text": [
      "  9%|▉         | 93/1000 [00:01<00:10, 88.76it/s]"
     ]
    },
    {
     "name": "stdout",
     "output_type": "stream",
     "text": [
      "1/1 [==============================] - 0s 30ms/step\n"
     ]
    },
    {
     "name": "stderr",
     "output_type": "stream",
     "text": [
      " 10%|█         | 103/1000 [00:01<00:09, 90.02it/s]"
     ]
    },
    {
     "name": "stdout",
     "output_type": "stream",
     "text": [
      "1/1 [==============================] - 0s 32ms/step\n"
     ]
    },
    {
     "name": "stderr",
     "output_type": "stream",
     "text": [
      " 11%|█▏        | 113/1000 [00:01<00:10, 87.71it/s]"
     ]
    },
    {
     "name": "stdout",
     "output_type": "stream",
     "text": [
      "1/1 [==============================] - 0s 36ms/step\n"
     ]
    },
    {
     "name": "stderr",
     "output_type": "stream",
     "text": [
      " 12%|█▏        | 123/1000 [00:01<00:10, 85.79it/s]"
     ]
    },
    {
     "name": "stdout",
     "output_type": "stream",
     "text": [
      "1/1 [==============================] - 0s 35ms/step\n"
     ]
    },
    {
     "name": "stderr",
     "output_type": "stream",
     "text": [
      " 13%|█▎        | 132/1000 [00:01<00:10, 83.50it/s]"
     ]
    },
    {
     "name": "stdout",
     "output_type": "stream",
     "text": [
      "1/1 [==============================] - 0s 34ms/step\n"
     ]
    },
    {
     "name": "stderr",
     "output_type": "stream",
     "text": [
      " 14%|█▍        | 141/1000 [00:01<00:10, 81.94it/s]"
     ]
    },
    {
     "name": "stdout",
     "output_type": "stream",
     "text": [
      "1/1 [==============================] - 0s 29ms/step\n"
     ]
    },
    {
     "name": "stderr",
     "output_type": "stream",
     "text": [
      " 15%|█▌        | 150/1000 [00:01<00:10, 80.58it/s]"
     ]
    },
    {
     "name": "stdout",
     "output_type": "stream",
     "text": [
      "1/1 [==============================] - 0s 23ms/step\n"
     ]
    },
    {
     "name": "stderr",
     "output_type": "stream",
     "text": [
      " 16%|█▌        | 162/1000 [00:01<00:09, 90.96it/s]"
     ]
    },
    {
     "name": "stdout",
     "output_type": "stream",
     "text": [
      "1/1 [==============================] - 0s 32ms/step\n"
     ]
    },
    {
     "name": "stderr",
     "output_type": "stream",
     "text": [
      " 17%|█▋        | 172/1000 [00:01<00:09, 87.87it/s]"
     ]
    },
    {
     "name": "stdout",
     "output_type": "stream",
     "text": [
      "1/1 [==============================] - 0s 31ms/step\n"
     ]
    },
    {
     "name": "stderr",
     "output_type": "stream",
     "text": [
      " 18%|█▊        | 181/1000 [00:02<00:09, 84.97it/s]"
     ]
    },
    {
     "name": "stdout",
     "output_type": "stream",
     "text": [
      "1/1 [==============================] - 0s 34ms/step\n"
     ]
    },
    {
     "name": "stderr",
     "output_type": "stream",
     "text": [
      " 19%|█▉        | 190/1000 [00:02<00:09, 83.78it/s]"
     ]
    },
    {
     "name": "stdout",
     "output_type": "stream",
     "text": [
      "1/1 [==============================] - 0s 31ms/step\n"
     ]
    },
    {
     "name": "stderr",
     "output_type": "stream",
     "text": [
      " 20%|██        | 200/1000 [00:02<00:09, 83.42it/s]"
     ]
    },
    {
     "name": "stdout",
     "output_type": "stream",
     "text": [
      "1/1 [==============================] - 0s 31ms/step\n"
     ]
    },
    {
     "name": "stderr",
     "output_type": "stream",
     "text": [
      " 21%|██        | 210/1000 [00:02<00:09, 83.65it/s]"
     ]
    },
    {
     "name": "stdout",
     "output_type": "stream",
     "text": [
      "1/1 [==============================] - 0s 30ms/step\n"
     ]
    },
    {
     "name": "stderr",
     "output_type": "stream",
     "text": [
      " 22%|██▏       | 220/1000 [00:02<00:09, 83.92it/s]"
     ]
    },
    {
     "name": "stdout",
     "output_type": "stream",
     "text": [
      "1/1 [==============================] - 0s 31ms/step\n"
     ]
    },
    {
     "name": "stderr",
     "output_type": "stream",
     "text": [
      " 23%|██▎       | 230/1000 [00:02<00:09, 83.84it/s]"
     ]
    },
    {
     "name": "stdout",
     "output_type": "stream",
     "text": [
      "1/1 [==============================] - 0s 29ms/step\n"
     ]
    },
    {
     "name": "stderr",
     "output_type": "stream",
     "text": [
      " 24%|██▍       | 240/1000 [00:02<00:09, 83.39it/s]"
     ]
    },
    {
     "name": "stdout",
     "output_type": "stream",
     "text": [
      "1/1 [==============================] - 0s 22ms/step\n"
     ]
    },
    {
     "name": "stderr",
     "output_type": "stream",
     "text": [
      " 25%|██▌       | 253/1000 [00:02<00:07, 95.06it/s]"
     ]
    },
    {
     "name": "stdout",
     "output_type": "stream",
     "text": [
      "1/1 [==============================] - 0s 23ms/step\n"
     ]
    },
    {
     "name": "stderr",
     "output_type": "stream",
     "text": [
      " 27%|██▋       | 266/1000 [00:02<00:07, 104.26it/s]"
     ]
    },
    {
     "name": "stdout",
     "output_type": "stream",
     "text": [
      "1/1 [==============================] - 0s 31ms/step\n"
     ]
    },
    {
     "name": "stderr",
     "output_type": "stream",
     "text": [
      " 28%|██▊       | 277/1000 [00:03<00:07, 101.14it/s]"
     ]
    },
    {
     "name": "stdout",
     "output_type": "stream",
     "text": [
      "1/1 [==============================] - 0s 29ms/step\n"
     ]
    },
    {
     "name": "stderr",
     "output_type": "stream",
     "text": [
      " 29%|██▉       | 288/1000 [00:03<00:07, 97.78it/s] "
     ]
    },
    {
     "name": "stdout",
     "output_type": "stream",
     "text": [
      "1/1 [==============================] - 0s 31ms/step\n"
     ]
    },
    {
     "name": "stderr",
     "output_type": "stream",
     "text": [
      " 30%|██▉       | 298/1000 [00:03<00:07, 93.91it/s]"
     ]
    },
    {
     "name": "stdout",
     "output_type": "stream",
     "text": [
      "1/1 [==============================] - 0s 31ms/step\n"
     ]
    },
    {
     "name": "stderr",
     "output_type": "stream",
     "text": [
      " 31%|███       | 308/1000 [00:03<00:07, 91.87it/s]"
     ]
    },
    {
     "name": "stdout",
     "output_type": "stream",
     "text": [
      "1/1 [==============================] - 0s 29ms/step\n"
     ]
    },
    {
     "name": "stderr",
     "output_type": "stream",
     "text": [
      " 32%|███▏      | 318/1000 [00:03<00:07, 91.01it/s]"
     ]
    },
    {
     "name": "stdout",
     "output_type": "stream",
     "text": [
      "1/1 [==============================] - 0s 36ms/step\n"
     ]
    },
    {
     "name": "stderr",
     "output_type": "stream",
     "text": [
      " 33%|███▎      | 328/1000 [00:03<00:07, 87.47it/s]"
     ]
    },
    {
     "name": "stdout",
     "output_type": "stream",
     "text": [
      "1/1 [==============================] - 0s 33ms/step\n"
     ]
    },
    {
     "name": "stderr",
     "output_type": "stream",
     "text": [
      " 34%|███▎      | 337/1000 [00:03<00:07, 83.59it/s]"
     ]
    },
    {
     "name": "stdout",
     "output_type": "stream",
     "text": [
      "1/1 [==============================] - 0s 30ms/step\n"
     ]
    },
    {
     "name": "stderr",
     "output_type": "stream",
     "text": [
      " 35%|███▍      | 346/1000 [00:03<00:08, 80.89it/s]"
     ]
    },
    {
     "name": "stdout",
     "output_type": "stream",
     "text": [
      "1/1 [==============================] - 0s 32ms/step\n"
     ]
    },
    {
     "name": "stderr",
     "output_type": "stream",
     "text": [
      " 36%|███▌      | 355/1000 [00:04<00:07, 80.90it/s]"
     ]
    },
    {
     "name": "stdout",
     "output_type": "stream",
     "text": [
      "1/1 [==============================] - 0s 23ms/step\n"
     ]
    },
    {
     "name": "stderr",
     "output_type": "stream",
     "text": [
      " 37%|███▋      | 367/1000 [00:04<00:06, 91.01it/s]"
     ]
    },
    {
     "name": "stdout",
     "output_type": "stream",
     "text": [
      "1/1 [==============================] - 0s 31ms/step\n"
     ]
    },
    {
     "name": "stderr",
     "output_type": "stream",
     "text": [
      " 38%|███▊      | 377/1000 [00:04<00:06, 89.24it/s]"
     ]
    },
    {
     "name": "stdout",
     "output_type": "stream",
     "text": [
      "1/1 [==============================] - 0s 29ms/step\n"
     ]
    },
    {
     "name": "stderr",
     "output_type": "stream",
     "text": [
      " 39%|███▊      | 387/1000 [00:04<00:06, 88.50it/s]"
     ]
    },
    {
     "name": "stdout",
     "output_type": "stream",
     "text": [
      "1/1 [==============================] - 0s 29ms/step\n"
     ]
    },
    {
     "name": "stderr",
     "output_type": "stream",
     "text": [
      " 40%|███▉      | 396/1000 [00:04<00:07, 86.12it/s]"
     ]
    },
    {
     "name": "stdout",
     "output_type": "stream",
     "text": [
      "1/1 [==============================] - 0s 29ms/step\n"
     ]
    },
    {
     "name": "stderr",
     "output_type": "stream",
     "text": [
      " 40%|████      | 405/1000 [00:04<00:06, 85.03it/s]"
     ]
    },
    {
     "name": "stdout",
     "output_type": "stream",
     "text": [
      "1/1 [==============================] - 0s 29ms/step\n"
     ]
    },
    {
     "name": "stderr",
     "output_type": "stream",
     "text": [
      " 41%|████▏     | 414/1000 [00:04<00:06, 84.00it/s]"
     ]
    },
    {
     "name": "stdout",
     "output_type": "stream",
     "text": [
      "1/1 [==============================] - 0s 31ms/step\n"
     ]
    },
    {
     "name": "stderr",
     "output_type": "stream",
     "text": [
      " 42%|████▏     | 423/1000 [00:04<00:06, 83.06it/s]"
     ]
    },
    {
     "name": "stdout",
     "output_type": "stream",
     "text": [
      "1/1 [==============================] - 0s 30ms/step\n"
     ]
    },
    {
     "name": "stderr",
     "output_type": "stream",
     "text": [
      " 43%|████▎     | 434/1000 [00:04<00:06, 89.71it/s]"
     ]
    },
    {
     "name": "stdout",
     "output_type": "stream",
     "text": [
      "1/1 [==============================] - 0s 29ms/step\n"
     ]
    },
    {
     "name": "stderr",
     "output_type": "stream",
     "text": [
      " 44%|████▍     | 444/1000 [00:05<00:06, 87.78it/s]"
     ]
    },
    {
     "name": "stdout",
     "output_type": "stream",
     "text": [
      "1/1 [==============================] - 0s 30ms/step\n"
     ]
    },
    {
     "name": "stderr",
     "output_type": "stream",
     "text": [
      " 45%|████▌     | 453/1000 [00:05<00:06, 85.38it/s]"
     ]
    },
    {
     "name": "stdout",
     "output_type": "stream",
     "text": [
      "1/1 [==============================] - 0s 31ms/step\n"
     ]
    },
    {
     "name": "stderr",
     "output_type": "stream",
     "text": [
      " 46%|████▌     | 462/1000 [00:05<00:06, 83.51it/s]"
     ]
    },
    {
     "name": "stdout",
     "output_type": "stream",
     "text": [
      "1/1 [==============================] - 0s 25ms/step\n"
     ]
    },
    {
     "name": "stderr",
     "output_type": "stream",
     "text": [
      " 47%|████▋     | 471/1000 [00:05<00:06, 83.79it/s]"
     ]
    },
    {
     "name": "stdout",
     "output_type": "stream",
     "text": [
      "1/1 [==============================] - 0s 23ms/step\n"
     ]
    },
    {
     "name": "stderr",
     "output_type": "stream",
     "text": [
      " 49%|████▊     | 486/1000 [00:05<00:05, 101.54it/s]"
     ]
    },
    {
     "name": "stdout",
     "output_type": "stream",
     "text": [
      "1/1 [==============================] - 0s 24ms/step\n"
     ]
    },
    {
     "name": "stderr",
     "output_type": "stream",
     "text": [
      " 50%|████▉     | 497/1000 [00:05<00:04, 102.32it/s]"
     ]
    },
    {
     "name": "stdout",
     "output_type": "stream",
     "text": [
      "1/1 [==============================] - 0s 31ms/step\n"
     ]
    },
    {
     "name": "stderr",
     "output_type": "stream",
     "text": [
      " 51%|█████     | 508/1000 [00:05<00:05, 97.85it/s] "
     ]
    },
    {
     "name": "stdout",
     "output_type": "stream",
     "text": [
      "1/1 [==============================] - 0s 32ms/step\n"
     ]
    },
    {
     "name": "stderr",
     "output_type": "stream",
     "text": [
      " 52%|█████▏    | 518/1000 [00:05<00:05, 93.50it/s]"
     ]
    },
    {
     "name": "stdout",
     "output_type": "stream",
     "text": [
      "1/1 [==============================] - 0s 30ms/step\n"
     ]
    },
    {
     "name": "stderr",
     "output_type": "stream",
     "text": [
      " 53%|█████▎    | 528/1000 [00:05<00:05, 90.37it/s]"
     ]
    },
    {
     "name": "stdout",
     "output_type": "stream",
     "text": [
      "1/1 [==============================] - 0s 34ms/step\n"
     ]
    },
    {
     "name": "stderr",
     "output_type": "stream",
     "text": [
      " 54%|█████▍    | 538/1000 [00:06<00:05, 89.56it/s]"
     ]
    },
    {
     "name": "stdout",
     "output_type": "stream",
     "text": [
      "1/1 [==============================] - 0s 23ms/step\n",
      "1/1 [==============================] - 0s 23ms/step\n"
     ]
    },
    {
     "name": "stderr",
     "output_type": "stream",
     "text": [
      " 55%|█████▌    | 550/1000 [00:06<00:05, 83.70it/s]"
     ]
    },
    {
     "name": "stdout",
     "output_type": "stream",
     "text": [
      "1/1 [==============================] - 0s 25ms/step\n"
     ]
    },
    {
     "name": "stderr",
     "output_type": "stream",
     "text": [
      " 56%|█████▌    | 561/1000 [00:06<00:04, 89.92it/s]"
     ]
    },
    {
     "name": "stdout",
     "output_type": "stream",
     "text": [
      "1/1 [==============================] - 0s 24ms/step\n"
     ]
    },
    {
     "name": "stderr",
     "output_type": "stream",
     "text": [
      " 57%|█████▊    | 575/1000 [00:06<00:04, 102.35it/s]"
     ]
    },
    {
     "name": "stdout",
     "output_type": "stream",
     "text": [
      "1/1 [==============================] - 0s 22ms/step\n",
      "1/1 [==============================] - 0s 26ms/step\n"
     ]
    },
    {
     "name": "stderr",
     "output_type": "stream",
     "text": [
      " 59%|█████▉    | 590/1000 [00:06<00:04, 98.79it/s] "
     ]
    },
    {
     "name": "stdout",
     "output_type": "stream",
     "text": [
      "1/1 [==============================] - 0s 29ms/step\n"
     ]
    },
    {
     "name": "stderr",
     "output_type": "stream",
     "text": [
      " 60%|██████    | 601/1000 [00:06<00:04, 96.70it/s]"
     ]
    },
    {
     "name": "stdout",
     "output_type": "stream",
     "text": [
      "1/1 [==============================] - 0s 30ms/step\n"
     ]
    },
    {
     "name": "stderr",
     "output_type": "stream",
     "text": [
      " 61%|██████    | 611/1000 [00:06<00:04, 93.51it/s]"
     ]
    },
    {
     "name": "stdout",
     "output_type": "stream",
     "text": [
      "1/1 [==============================] - 0s 30ms/step\n"
     ]
    },
    {
     "name": "stderr",
     "output_type": "stream",
     "text": [
      " 62%|██████▏   | 621/1000 [00:06<00:04, 91.04it/s]"
     ]
    },
    {
     "name": "stdout",
     "output_type": "stream",
     "text": [
      "1/1 [==============================] - 0s 36ms/step\n"
     ]
    },
    {
     "name": "stderr",
     "output_type": "stream",
     "text": [
      " 63%|██████▎   | 631/1000 [00:07<00:04, 88.34it/s]"
     ]
    },
    {
     "name": "stdout",
     "output_type": "stream",
     "text": [
      "1/1 [==============================] - 0s 30ms/step\n"
     ]
    },
    {
     "name": "stderr",
     "output_type": "stream",
     "text": [
      " 64%|██████▍   | 640/1000 [00:07<00:04, 84.56it/s]"
     ]
    },
    {
     "name": "stdout",
     "output_type": "stream",
     "text": [
      "1/1 [==============================] - 0s 31ms/step\n"
     ]
    },
    {
     "name": "stderr",
     "output_type": "stream",
     "text": [
      " 65%|██████▌   | 650/1000 [00:07<00:04, 85.20it/s]"
     ]
    },
    {
     "name": "stdout",
     "output_type": "stream",
     "text": [
      "1/1 [==============================] - 0s 30ms/step\n"
     ]
    },
    {
     "name": "stderr",
     "output_type": "stream",
     "text": [
      " 66%|██████▌   | 660/1000 [00:07<00:04, 84.98it/s]"
     ]
    },
    {
     "name": "stdout",
     "output_type": "stream",
     "text": [
      "1/1 [==============================] - 0s 31ms/step\n"
     ]
    },
    {
     "name": "stderr",
     "output_type": "stream",
     "text": [
      " 67%|██████▋   | 670/1000 [00:07<00:03, 84.80it/s]"
     ]
    },
    {
     "name": "stdout",
     "output_type": "stream",
     "text": [
      "1/1 [==============================] - 0s 30ms/step\n"
     ]
    },
    {
     "name": "stderr",
     "output_type": "stream",
     "text": [
      " 68%|██████▊   | 680/1000 [00:07<00:03, 84.84it/s]"
     ]
    },
    {
     "name": "stdout",
     "output_type": "stream",
     "text": [
      "1/1 [==============================] - 0s 30ms/step\n"
     ]
    },
    {
     "name": "stderr",
     "output_type": "stream",
     "text": [
      " 69%|██████▉   | 690/1000 [00:07<00:03, 85.72it/s]"
     ]
    },
    {
     "name": "stdout",
     "output_type": "stream",
     "text": [
      "1/1 [==============================] - 0s 31ms/step\n"
     ]
    },
    {
     "name": "stderr",
     "output_type": "stream",
     "text": [
      " 70%|███████   | 700/1000 [00:07<00:03, 85.10it/s]"
     ]
    },
    {
     "name": "stdout",
     "output_type": "stream",
     "text": [
      "1/1 [==============================] - 0s 31ms/step\n"
     ]
    },
    {
     "name": "stderr",
     "output_type": "stream",
     "text": [
      " 71%|███████   | 710/1000 [00:08<00:03, 84.85it/s]"
     ]
    },
    {
     "name": "stdout",
     "output_type": "stream",
     "text": [
      "1/1 [==============================] - 0s 23ms/step\n"
     ]
    },
    {
     "name": "stderr",
     "output_type": "stream",
     "text": [
      " 72%|███████▏  | 723/1000 [00:08<00:02, 96.85it/s]"
     ]
    },
    {
     "name": "stdout",
     "output_type": "stream",
     "text": [
      "1/1 [==============================] - 0s 28ms/step\n"
     ]
    },
    {
     "name": "stderr",
     "output_type": "stream",
     "text": [
      " 74%|███████▎  | 737/1000 [00:08<00:02, 108.53it/s]"
     ]
    },
    {
     "name": "stdout",
     "output_type": "stream",
     "text": [
      "1/1 [==============================] - 0s 23ms/step\n",
      "1/1 [==============================] - 0s 24ms/step\n"
     ]
    },
    {
     "name": "stderr",
     "output_type": "stream",
     "text": [
      " 75%|███████▌  | 750/1000 [00:08<00:02, 97.60it/s] "
     ]
    },
    {
     "name": "stdout",
     "output_type": "stream",
     "text": [
      "1/1 [==============================] - 0s 23ms/step\n"
     ]
    },
    {
     "name": "stderr",
     "output_type": "stream",
     "text": [
      " 76%|███████▋  | 763/1000 [00:08<00:02, 105.29it/s]"
     ]
    },
    {
     "name": "stdout",
     "output_type": "stream",
     "text": [
      "1/1 [==============================] - 0s 24ms/step\n"
     ]
    },
    {
     "name": "stderr",
     "output_type": "stream",
     "text": [
      " 78%|███████▊  | 778/1000 [00:08<00:01, 116.74it/s]"
     ]
    },
    {
     "name": "stdout",
     "output_type": "stream",
     "text": [
      "1/1 [==============================] - 0s 25ms/step\n",
      "1/1 [==============================] - 0s 32ms/step\n"
     ]
    },
    {
     "name": "stderr",
     "output_type": "stream",
     "text": [
      " 79%|███████▉  | 791/1000 [00:08<00:02, 94.77it/s] "
     ]
    },
    {
     "name": "stdout",
     "output_type": "stream",
     "text": [
      "1/1 [==============================] - 0s 31ms/step\n"
     ]
    },
    {
     "name": "stderr",
     "output_type": "stream",
     "text": [
      " 80%|████████  | 802/1000 [00:08<00:02, 93.10it/s]"
     ]
    },
    {
     "name": "stdout",
     "output_type": "stream",
     "text": [
      "1/1 [==============================] - 0s 30ms/step\n"
     ]
    },
    {
     "name": "stderr",
     "output_type": "stream",
     "text": [
      " 81%|████████  | 812/1000 [00:09<00:02, 90.11it/s]"
     ]
    },
    {
     "name": "stdout",
     "output_type": "stream",
     "text": [
      "1/1 [==============================] - 0s 32ms/step\n"
     ]
    },
    {
     "name": "stderr",
     "output_type": "stream",
     "text": [
      " 82%|████████▏ | 822/1000 [00:09<00:02, 88.81it/s]"
     ]
    },
    {
     "name": "stdout",
     "output_type": "stream",
     "text": [
      "1/1 [==============================] - 0s 36ms/step\n"
     ]
    },
    {
     "name": "stderr",
     "output_type": "stream",
     "text": [
      " 83%|████████▎ | 832/1000 [00:09<00:01, 85.76it/s]"
     ]
    },
    {
     "name": "stdout",
     "output_type": "stream",
     "text": [
      "1/1 [==============================] - 0s 37ms/step\n"
     ]
    },
    {
     "name": "stderr",
     "output_type": "stream",
     "text": [
      " 84%|████████▍ | 841/1000 [00:09<00:01, 80.17it/s]"
     ]
    },
    {
     "name": "stdout",
     "output_type": "stream",
     "text": [
      "1/1 [==============================] - 0s 35ms/step\n"
     ]
    },
    {
     "name": "stderr",
     "output_type": "stream",
     "text": [
      " 85%|████████▌ | 850/1000 [00:09<00:01, 79.82it/s]"
     ]
    },
    {
     "name": "stdout",
     "output_type": "stream",
     "text": [
      "1/1 [==============================] - 0s 35ms/step\n"
     ]
    },
    {
     "name": "stderr",
     "output_type": "stream",
     "text": [
      " 86%|████████▌ | 860/1000 [00:09<00:01, 80.28it/s]"
     ]
    },
    {
     "name": "stdout",
     "output_type": "stream",
     "text": [
      "1/1 [==============================] - 0s 23ms/step\n"
     ]
    },
    {
     "name": "stderr",
     "output_type": "stream",
     "text": [
      " 87%|████████▋ | 870/1000 [00:09<00:01, 84.99it/s]"
     ]
    },
    {
     "name": "stdout",
     "output_type": "stream",
     "text": [
      "1/1 [==============================] - 0s 31ms/step\n"
     ]
    },
    {
     "name": "stderr",
     "output_type": "stream",
     "text": [
      " 88%|████████▊ | 880/1000 [00:09<00:01, 84.71it/s]"
     ]
    },
    {
     "name": "stdout",
     "output_type": "stream",
     "text": [
      "1/1 [==============================] - 0s 30ms/step\n"
     ]
    },
    {
     "name": "stderr",
     "output_type": "stream",
     "text": [
      " 89%|████████▉ | 890/1000 [00:09<00:01, 85.38it/s]"
     ]
    },
    {
     "name": "stdout",
     "output_type": "stream",
     "text": [
      "1/1 [==============================] - 0s 29ms/step\n"
     ]
    },
    {
     "name": "stderr",
     "output_type": "stream",
     "text": [
      " 90%|█████████ | 900/1000 [00:10<00:01, 86.12it/s]"
     ]
    },
    {
     "name": "stdout",
     "output_type": "stream",
     "text": [
      "1/1 [==============================] - 0s 31ms/step\n"
     ]
    },
    {
     "name": "stderr",
     "output_type": "stream",
     "text": [
      " 91%|█████████ | 910/1000 [00:10<00:01, 85.40it/s]"
     ]
    },
    {
     "name": "stdout",
     "output_type": "stream",
     "text": [
      "1/1 [==============================] - 0s 31ms/step\n"
     ]
    },
    {
     "name": "stderr",
     "output_type": "stream",
     "text": [
      " 92%|█████████▏| 920/1000 [00:10<00:00, 84.84it/s]"
     ]
    },
    {
     "name": "stdout",
     "output_type": "stream",
     "text": [
      "1/1 [==============================] - 0s 31ms/step\n"
     ]
    },
    {
     "name": "stderr",
     "output_type": "stream",
     "text": [
      " 93%|█████████▎| 930/1000 [00:10<00:00, 85.29it/s]"
     ]
    },
    {
     "name": "stdout",
     "output_type": "stream",
     "text": [
      "1/1 [==============================] - 0s 30ms/step\n"
     ]
    },
    {
     "name": "stderr",
     "output_type": "stream",
     "text": [
      " 94%|█████████▍| 940/1000 [00:10<00:00, 83.86it/s]"
     ]
    },
    {
     "name": "stdout",
     "output_type": "stream",
     "text": [
      "1/1 [==============================] - 0s 31ms/step\n"
     ]
    },
    {
     "name": "stderr",
     "output_type": "stream",
     "text": [
      " 95%|█████████▌| 950/1000 [00:10<00:00, 84.67it/s]"
     ]
    },
    {
     "name": "stdout",
     "output_type": "stream",
     "text": [
      "1/1 [==============================] - 0s 24ms/step\n"
     ]
    },
    {
     "name": "stderr",
     "output_type": "stream",
     "text": [
      " 96%|█████████▌| 960/1000 [00:10<00:00, 86.26it/s]"
     ]
    },
    {
     "name": "stdout",
     "output_type": "stream",
     "text": [
      "1/1 [==============================] - 0s 31ms/step\n"
     ]
    },
    {
     "name": "stderr",
     "output_type": "stream",
     "text": [
      " 97%|█████████▋| 970/1000 [00:10<00:00, 86.25it/s]"
     ]
    },
    {
     "name": "stdout",
     "output_type": "stream",
     "text": [
      "1/1 [==============================] - 0s 31ms/step\n"
     ]
    },
    {
     "name": "stderr",
     "output_type": "stream",
     "text": [
      " 98%|█████████▊| 980/1000 [00:11<00:00, 86.17it/s]"
     ]
    },
    {
     "name": "stdout",
     "output_type": "stream",
     "text": [
      "1/1 [==============================] - 0s 30ms/step\n"
     ]
    },
    {
     "name": "stderr",
     "output_type": "stream",
     "text": [
      " 99%|█████████▉| 990/1000 [00:11<00:00, 85.97it/s]"
     ]
    },
    {
     "name": "stdout",
     "output_type": "stream",
     "text": [
      "1/1 [==============================] - 0s 32ms/step\n"
     ]
    },
    {
     "name": "stderr",
     "output_type": "stream",
     "text": [
      "100%|██████████| 1000/1000 [00:11<00:00, 88.75it/s]\n"
     ]
    }
   ],
   "source": [
    "from aucmedi.xai.decoder import xai_decoder\n",
    "\n",
    "path_xai = \"xai_lime/\"\n",
    "\n",
    "# Create a DataGenerator for data I/O\n",
    "datagen = DataGenerator([test[0][0]], \"data/Kather_texture_2016_image_tiles_5000\", labels=None)\n",
    "\n",
    "# Make some predictions\n",
    "preds = model.predict(datagen)\n",
    "\n",
    "# Compute XAI heatmaps via LimePro \n",
    "xai_decoder(datagen, model, preds, method=\"LimePro\", out_path=path_xai)\n"
   ]
  },
  {
   "cell_type": "code",
   "execution_count": 11,
   "id": "a4e6627c-a3fc-4be8-8f3f-6a8acb0c6c22",
   "metadata": {},
   "outputs": [
    {
     "data": {
      "image/png": "[encoded data removed]",
      "text/plain": [
       "<PIL.TiffImagePlugin.TiffImageFile image mode=RGB size=150x150>"
      ]
     },
     "metadata": {},
     "output_type": "display_data"
    }
   ],
   "source": [
    "from PIL import Image\n",
    "import os\n",
    "\n",
    "xai_file = test[0][0].replace(os.sep, \".\")\n",
    "\n",
    "img = Image.open(path_xai + xai_file)\n",
    "img.show()"
   ]
  },
  {
   "cell_type": "markdown",
   "id": "1e233f2f-bea0-4091-85d3-6e507de440cb",
   "metadata": {},
   "source": [
    "We can also apply XAI on all images at once. Of course, this is a little more computationally expensive.  \n"
   ]
  },
  {
   "cell_type": "code",
   "execution_count": 12,
   "id": "00c9093f-c11d-4b99-a7d7-4e5a12cd0abd",
   "metadata": {},
   "outputs": [
    {
     "name": "stdout",
     "output_type": "stream",
     "text": [
      "40/40 [==============================] - 4s 100ms/step\n"
     ]
    }
   ],
   "source": [
    "from aucmedi.xai.decoder import xai_decoder\n",
    "from aucmedi.data_processing import data_generator\n",
    "\n",
    "predict_generator = data_generator.DataGenerator(samples=test[0], path_imagedir=\"data/Kather_texture_2016_image_tiles_5000\",\n",
    "                                                 resize=model.meta_input, standardize_mode=model.meta_standardize,\n",
    "                                                 labels=None, image_format=image_format, batch_size=32, data_aug=None, \n",
    "                                                 shuffle=False, grayscale=False, subfunctions=[], prepare_images=False, \n",
    "                                                 sample_weights=None, seed=123, workers=1)\n",
    "\n",
    "prediction = model.predict(prediction_generator=predict_generator)\n",
    "\n",
    "path_xai = \"xai_gradcam/\"\n",
    "\n",
    "# Compute XAI heatmaps via Grad-CAM (resulting heatmaps are stored in out_path)\n",
    "xai_decoder(predict_generator, model, prediction, method=\"gradcam\", out_path=path_xai)"
   ]
  }
 ],
 "metadata": {
  "kernelspec": {
   "display_name": "Python 3 (ipykernel)",
   "language": "python",
   "name": "python3"
  },
  "language_info": {
   "codemirror_mode": {
    "name": "ipython",
    "version": 3
   },
   "file_extension": ".py",
   "mimetype": "text/x-python",
   "name": "python",
   "nbconvert_exporter": "python",
   "pygments_lexer": "ipython3",
   "version": "3.8.6"
  }
 },
 "nbformat": 4,
 "nbformat_minor": 5
}
