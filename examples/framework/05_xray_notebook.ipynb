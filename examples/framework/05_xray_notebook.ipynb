{
 "cells": [
  {
   "cell_type": "markdown",
   "metadata": {
    "pycharm": {
     "name": "#%% md\n"
    }
   },
   "source": [
    "# AUCMEDI Example\n",
    "\n",
    "## Regular pipeline\n",
    "\n",
    "This sample notebook gives you an impression on how to apply *AUCMEDI* to any common image classification task in the field of medical imaging. We provide step-by-step explanations to help you understand, what's happening.\n"
   ]
  },
  {
   "cell_type": "markdown",
   "metadata": {},
   "source": [
    "### Step 1: Setup\n",
    "\n",
    "Setting up GPU"
   ]
  },
  {
   "cell_type": "code",
   "execution_count": 1,
   "metadata": {},
   "outputs": [],
   "source": [
    "import os\n",
    "os.environ[\"CUDA_VISIBLE_DEVICES\"]=\"1\""
   ]
  },
  {
   "cell_type": "markdown",
   "metadata": {
    "pycharm": {
     "name": "#%% md\n"
    }
   },
   "source": [
    "### Step 2: Imports\n",
    "\n",
    "Besides the *AUCMEDI* library, we use `os` to manage file paths, and `csv` to handle CSV files. To add callbacks to our model, we also work with `tensorflow` directly. For XAI in step 18, we need to be able to generate some simple random numbers, using `random`. We're storing our XAI related predictions using `pandas`."
   ]
  },
  {
   "cell_type": "code",
   "execution_count": 2,
   "metadata": {
    "collapsed": false,
    "jupyter": {
     "outputs_hidden": false
    },
    "pycharm": {
     "name": "#%%\n"
    }
   },
   "outputs": [],
   "source": [
    "from aucmedi import *\n",
    "import csv\n",
    "import tensorflow as tf\n",
    "import random\n",
    "import pandas as pd"
   ]
  },
  {
   "cell_type": "markdown",
   "metadata": {
    "pycharm": {
     "name": "#%% md\n"
    }
   },
   "source": [
    "***\n",
    "\n",
    "### Step 3: Constants\n",
    "\n",
    "For convenience, we define the constant values we need along the way here."
   ]
  },
  {
   "cell_type": "code",
   "execution_count": 3,
   "metadata": {
    "collapsed": false,
    "jupyter": {
     "outputs_hidden": false
    },
    "pycharm": {
     "name": "#%%\n"
    }
   },
   "outputs": [],
   "source": [
    "# Seed for replicability of random actions\n",
    "seed = 341\n",
    "\n",
    "# Is the classification task a multi-label problem?\n",
    "is_multilabel = False\n",
    "activation_function = 'sigmoid' if is_multilabel else 'softmax'\n",
    "\n",
    "# CSV: Are the labels one-hot-encoded?\n",
    "is_ohe = True\n",
    "\n",
    "# Epochs to train\n",
    "epochs = 500\n",
    "\n",
    "# Splits\n",
    "splits = [0.7, 0.1, 0.2]\n",
    "\n",
    "# Label that impacts the output path\n",
    "iteration_index = '05'\n",
    "project_name = 'xray'\n",
    "iteration_label = '{}_{}'.format(iteration_index, project_name)\n",
    "\n",
    "# Interface type\n",
    "type_of_annotations = 'directory'\n",
    "\n",
    "# CSV: Identifying column within our interface\n",
    "col_id = 'image'\n",
    "csv_newline = ''\n",
    "\n",
    "# Paths\n",
    "path_input = os.path.join('assets', 'sample', project_name)\n",
    "path_snapshot = os.path.join('assets', iteration_label, 'out', 'snapshots')\n",
    "path_snapshot_file = os.path.join('assets', iteration_label, 'out', 'snapshots', 'model.h5')\n",
    "path_history = os.path.join('assets', iteration_label, 'out', 'history')\n",
    "path_images = os.path.join('assets', iteration_label, 'out', 'img')\n",
    "path_class_distribution = os.path.join('assets', iteration_label, 'info')\n",
    "path_xai = os.path.join('assets', iteration_label, 'out', 'xai')\n",
    "path_xai_predictions = os.path.join(path_xai, 'predictions.csv')\n",
    "\n",
    "# CSV: Path to ground truth\n",
    "path_truth = os.path.join('assets', 'sample', project_name, 'ground_truth.csv')\n",
    "\n",
    "# Model specifics\n",
    "architecture_name = '2D.DenseNet121'\n",
    "nn_metrics = ['categorical_accuracy']\n",
    "use_pretrained = True\n",
    "callbacks = []"
   ]
  },
  {
   "cell_type": "markdown",
   "metadata": {
    "pycharm": {
     "name": "#%% md\n"
    }
   },
   "source": [
    "***\n",
    "\n",
    "### Step 4: Create output directories\n",
    "\n",
    "To avoid mistakes, we want to make sure that the training-specific output paths are generated anew."
   ]
  },
  {
   "cell_type": "code",
   "execution_count": 4,
   "metadata": {
    "collapsed": false,
    "jupyter": {
     "outputs_hidden": false
    },
    "pycharm": {
     "name": "#%%\n"
    }
   },
   "outputs": [],
   "source": [
    "os.makedirs(path_snapshot, exist_ok=False)\n",
    "os.makedirs(path_images, exist_ok=False)\n",
    "os.makedirs(path_class_distribution, exist_ok=False)"
   ]
  },
  {
   "cell_type": "markdown",
   "metadata": {
    "pycharm": {
     "name": "#%% md\n"
    }
   },
   "source": [
    "***\n",
    "\n",
    "### Step 5: Read ground truth\n",
    "\n",
    "To find all available classes, we need to distinguish if we have a `CSV` based annotation or if we're using directories.\n",
    "\n",
    "#### Step 5.1: CSV\n",
    "\n",
    "With a CSV-based interface, we can read the labels from the ground truth file.\n",
    "\n",
    "#### Step 5.2: Directory\n",
    "\n",
    "When using directories, we simply need to read the labels of all sub-directories.\n"
   ]
  },
  {
   "cell_type": "code",
   "execution_count": 5,
   "metadata": {
    "collapsed": false,
    "jupyter": {
     "outputs_hidden": false
    },
    "pycharm": {
     "name": "#%%\n"
    }
   },
   "outputs": [
    {
     "name": "stdout",
     "output_type": "stream",
     "text": [
      "Cannot handle annotation type directory\n"
     ]
    }
   ],
   "source": [
    "valid_classes = None\n",
    "\n",
    "def handle_csv():\n",
    "    with open(path_truth, newline=csv_newline) as file:\n",
    "        reader = csv.reader(file)\n",
    "        first_row = next(reader)\n",
    "        \n",
    "        # Since the ISIC training data set does not contain any samples for 'UNK', we eliminate the class for our purposes\n",
    "        if project_name == 'dermatoscopy': \n",
    "            return [th for th in first_row if th != col_id and th != 'UNK']\n",
    "        else: \n",
    "            return first_row[1:]\n",
    "\n",
    "annotation_handler = {\n",
    "    'csv': handle_csv\n",
    "}\n",
    "\n",
    "try:\n",
    "    valid_classes = annotation_handler[type_of_annotations]()\n",
    "    print('Valid classes have been successfully set!')\n",
    "    print(valid_classes)\n",
    "except KeyError:\n",
    "    print('Cannot handle annotation type {}'.format(type_of_annotations))\n"
   ]
  },
  {
   "cell_type": "markdown",
   "metadata": {
    "pycharm": {
     "name": "#%% md\n"
    }
   },
   "source": [
    "***\n",
    "\n",
    "### Step 6: Load data\n",
    "\n",
    "By calling `input_interface()`, we can load all the information we need about a data set."
   ]
  },
  {
   "cell_type": "code",
   "execution_count": 6,
   "metadata": {
    "collapsed": false,
    "jupyter": {
     "outputs_hidden": false
    },
    "pycharm": {
     "name": "#%%\n"
    }
   },
   "outputs": [],
   "source": [
    "if type_of_annotations == 'csv':\n",
    "    ds_loader = input_interface(\n",
    "        interface=type_of_annotations, # Type of annotations\n",
    "        path_imagedir=path_input, # Path to images\n",
    "        col_sample=col_id, # Name of the column that identifies an image\n",
    "        path_data=path_truth, # Path to labels\n",
    "        ohe=is_ohe, # Are labels one-hot-encoded?\n",
    "        ohe_range=valid_classes # Possible values\n",
    "    )\n",
    "elif type_of_annotations == 'directory':\n",
    "    ds_loader = input_interface(\n",
    "        interface=type_of_annotations,\n",
    "        path_imagedir=path_input\n",
    "    )\n",
    "\n",
    "(index_list, labels_ohe, n_classes, class_names, image_format) = ds_loader"
   ]
  },
  {
   "cell_type": "markdown",
   "metadata": {},
   "source": [
    "***\n",
    "\n",
    "### Step 7: Class distribution\n",
    "\n",
    "To plot the class distribution, we can use *AUCMEDI*'s [evaluate functionality](https://frankkramer-lab.github.io/aucmedi/reference/evaluation/dataset/#aucmedi.evaluation.dataset.evaluate_dataset). "
   ]
  },
  {
   "cell_type": "code",
   "execution_count": 7,
   "metadata": {},
   "outputs": [
    {
     "name": "stderr",
     "output_type": "stream",
     "text": [
      "/home/main/.local/lib/python3.8/site-packages/plotnine/ggplot.py:718: PlotnineWarning: Saving 10 x 9 in image.\n",
      "/home/main/.local/lib/python3.8/site-packages/plotnine/ggplot.py:719: PlotnineWarning: Filename: assets/05_xray/info/plot.dataset.barplot.png\n"
     ]
    },
    {
     "data": {
      "text/html": [
       "<div>\n",
       "<style scoped>\n",
       "    .dataframe tbody tr th:only-of-type {\n",
       "        vertical-align: middle;\n",
       "    }\n",
       "\n",
       "    .dataframe tbody tr th {\n",
       "        vertical-align: top;\n",
       "    }\n",
       "\n",
       "    .dataframe thead th {\n",
       "        text-align: right;\n",
       "    }\n",
       "</style>\n",
       "<table border=\"1\" class=\"dataframe\">\n",
       "  <thead>\n",
       "    <tr style=\"text-align: right;\">\n",
       "      <th></th>\n",
       "      <th>class</th>\n",
       "      <th>class_freq</th>\n",
       "      <th>class_perc</th>\n",
       "    </tr>\n",
       "  </thead>\n",
       "  <tbody>\n",
       "    <tr>\n",
       "      <th>0</th>\n",
       "      <td>NORMAL</td>\n",
       "      <td>1583</td>\n",
       "      <td>27.0</td>\n",
       "    </tr>\n",
       "    <tr>\n",
       "      <th>1</th>\n",
       "      <td>PNEUMONIA</td>\n",
       "      <td>4273</td>\n",
       "      <td>73.0</td>\n",
       "    </tr>\n",
       "  </tbody>\n",
       "</table>\n",
       "</div>"
      ],
      "text/plain": [
       "       class class_freq  class_perc\n",
       "0     NORMAL       1583        27.0\n",
       "1  PNEUMONIA       4273        73.0"
      ]
     },
     "execution_count": 7,
     "metadata": {},
     "output_type": "execute_result"
    }
   ],
   "source": [
    "from aucmedi.evaluation import *\n",
    "\n",
    "evaluate_dataset(\n",
    "    samples=index_list,\n",
    "    labels=labels_ohe,\n",
    "    out_path=path_class_distribution,\n",
    "    class_names=class_names,\n",
    "    plot_barplot=True\n",
    ")"
   ]
  },
  {
   "cell_type": "markdown",
   "metadata": {
    "pycharm": {
     "name": "#%% md\n"
    }
   },
   "source": [
    "***\n",
    "\n",
    "### Step 8: Split data set\n",
    "\n",
    "For our case, we are splitting our set of images into three data sets, `set_train`, `set_val` and `set_test` respectively."
   ]
  },
  {
   "cell_type": "code",
   "execution_count": 8,
   "metadata": {
    "collapsed": false,
    "jupyter": {
     "outputs_hidden": false
    },
    "pycharm": {
     "name": "#%%\n"
    }
   },
   "outputs": [],
   "source": [
    "from aucmedi.sampling.split import sampling_split\n",
    "\n",
    "set_train, set_val, set_test = sampling_split(\n",
    "    samples=index_list, # list of sample names\n",
    "    labels=labels_ohe, # list of corresponding labels\n",
    "    sampling=splits, # percentage splits\n",
    "    stratified=True, # Allow overlaps between sets\n",
    "    iterative=is_multilabel, # Approximation of a solution is only useful for multi label problems\n",
    "    seed=seed # Seed for replicability of random actions\n",
    ")"
   ]
  },
  {
   "cell_type": "markdown",
   "metadata": {
    "pycharm": {
     "name": "#%% md\n"
    }
   },
   "source": [
    "***\n",
    "\n",
    "### Step 9: Prepare model\n",
    "\n",
    "In preparation for a robust classificator, we plan on using common utilities, like image augmentation and several callbacks.\n",
    "\n",
    "#### 9.1: Image Augmentation\n",
    "\n",
    "By default, the `Image_Augmentation` object applies\n",
    "\n",
    "- Flipping\n",
    "- Rotation\n",
    "- Changes to brightness\n",
    "- Changes to contrast\n",
    "- Changes to saturation\n",
    "- Changes to hue\n",
    "- Changes to scale\n"
   ]
  },
  {
   "cell_type": "code",
   "execution_count": 9,
   "metadata": {
    "collapsed": false,
    "jupyter": {
     "outputs_hidden": false
    },
    "pycharm": {
     "name": "#%%\n"
    }
   },
   "outputs": [],
   "source": [
    "from aucmedi.data_processing import augmentation\n",
    "\n",
    "data_aug = augmentation.ImageAugmentation()"
   ]
  },
  {
   "cell_type": "markdown",
   "metadata": {
    "pycharm": {
     "name": "#%% md\n"
    }
   },
   "source": [
    "***\n",
    "\n",
    "#### 9.2 Callback: Early Stopping\n",
    "\n",
    "When we see none, or very small improvements in performance, we abort training to save resources.\n",
    "\n",
    "#### 9.3: Callback: Dynamic Learning Rate\n",
    "\n",
    "Reducing the learning rate, is often beneficial to models, when improvements are beginning to stagnate.\n",
    "\n",
    "#### 9.4: Callback: CSV Logger\n",
    "\n",
    "We intend to persist the histories that our training generates for further analysis.\n",
    "\n",
    "#### 9.5: Callback: Checkpoint\n",
    "\n",
    "To persist our model, we use the callback ModelCheckpoint.\n"
   ]
  },
  {
   "cell_type": "code",
   "execution_count": 10,
   "metadata": {
    "collapsed": false,
    "jupyter": {
     "outputs_hidden": false
    },
    "pycharm": {
     "name": "#%%\n"
    }
   },
   "outputs": [],
   "source": [
    "from tensorflow.keras.callbacks import EarlyStopping, ReduceLROnPlateau, CSVLogger, ModelCheckpoint\n",
    "\n",
    "# 9.2 Early Stopping\n",
    "cb_early_stopping = EarlyStopping(\n",
    "    monitor='val_loss',\n",
    "    patience=12,\n",
    "    verbose=1,\n",
    ")\n",
    "\n",
    "callbacks.append(cb_early_stopping)\n",
    "\n",
    "# 9.3 Dynamic learning rate\n",
    "cb_reduce_learning_rate = ReduceLROnPlateau(\n",
    "    monitor='val_loss',\n",
    "    factor=0.1,\n",
    "    patience=5,\n",
    "    verbose=1,\n",
    "    mode='min',\n",
    "    min_lr=1e-7\n",
    ")\n",
    "\n",
    "callbacks.append(cb_reduce_learning_rate)\n",
    "\n",
    "# 9.4 CSV Logger\n",
    "cb_csv_logger = CSVLogger(\n",
    "    filename=path_history,\n",
    "    separator=',',\n",
    "    append=True\n",
    ")\n",
    "\n",
    "callbacks.append(cb_csv_logger)\n",
    "\n",
    "# 9.5 Model Checkpoint\n",
    "cb_model_checkpoint = ModelCheckpoint(\n",
    "    filepath=path_snapshot_file,\n",
    "    monitor='val_loss',\n",
    "    save_best_only=True\n",
    ")\n",
    "\n",
    "callbacks.append(cb_model_checkpoint)"
   ]
  },
  {
   "cell_type": "markdown",
   "metadata": {
    "pycharm": {
     "name": "#%% md\n"
    }
   },
   "source": [
    "***\n",
    "\n",
    "### Step 10: Model\n",
    "\n",
    "Before we can build our model, we need to instantiate the class weights and loss function. Please note: Multilabel problems have to be handled explicitly, because their classes potentially overlap."
   ]
  },
  {
   "cell_type": "code",
   "execution_count": 11,
   "metadata": {
    "collapsed": false,
    "jupyter": {
     "outputs_hidden": false
    },
    "pycharm": {
     "name": "#%%\n"
    }
   },
   "outputs": [
    {
     "name": "stderr",
     "output_type": "stream",
     "text": [
      "2022-09-13 13:59:40.267910: I tensorflow/core/platform/cpu_feature_guard.cc:151] This TensorFlow binary is optimized with oneAPI Deep Neural Network Library (oneDNN) to use the following CPU instructions in performance-critical operations:  AVX2 AVX512F FMA\n",
      "To enable them in other operations, rebuild TensorFlow with the appropriate compiler flags.\n",
      "2022-09-13 13:59:40.782321: I tensorflow/core/common_runtime/gpu/gpu_device.cc:1525] Created device /job:localhost/replica:0/task:0/device:GPU:0 with 22846 MB memory:  -> device: 0, name: NVIDIA TITAN RTX, pci bus id: 0000:3f:00.0, compute capability: 7.5\n"
     ]
    }
   ],
   "source": [
    "from aucmedi.utils.class_weights import compute_class_weights, compute_multilabel_weights\n",
    "from aucmedi.neural_network.loss_functions import *\n",
    "from aucmedi.neural_network import model\n",
    "\n",
    "# Loss\n",
    "if is_multilabel:\n",
    "    class_weights = compute_multilabel_weights(set_train[1])\n",
    "    loss = multilabel_focal_loss(class_weights)\n",
    "else: \n",
    "    cw_loss, class_weights = compute_class_weights(set_train[1])\n",
    "    loss = categorical_focal_loss(cw_loss)\n",
    "\n",
    "model = model.NeuralNetwork(\n",
    "    n_labels=n_classes,\n",
    "    channels=3,\n",
    "    architecture=architecture_name,\n",
    "    pretrained_weights=use_pretrained,\n",
    "    loss=loss, # Categorical focal loss for both multiclass and binary problems\n",
    "    metrics=nn_metrics,\n",
    "    activation_output=activation_function # Sigmoid for multilabel problems, else softmax\n",
    ")"
   ]
  },
  {
   "cell_type": "markdown",
   "metadata": {
    "pycharm": {
     "name": "#%% md\n"
    }
   },
   "source": [
    "***\n",
    "\n",
    "### Step 11: Prepare training\n",
    "\n",
    "Training the model with our `training` and `validation` sets, requires an instance of a `DataGenerator`, each."
   ]
  },
  {
   "cell_type": "code",
   "execution_count": 12,
   "metadata": {
    "collapsed": false,
    "jupyter": {
     "outputs_hidden": false
    },
    "pycharm": {
     "name": "#%%\n"
    }
   },
   "outputs": [],
   "source": [
    "from aucmedi.data_processing import data_generator\n",
    "\n",
    "gen_train = data_generator.DataGenerator(\n",
    "    samples=set_train[0],\n",
    "    labels=set_train[1],\n",
    "    path_imagedir=path_input,\n",
    "    image_format=image_format,\n",
    "    data_aug=data_aug,\n",
    "    resize=model.meta_input, # Applying transfer learning, means that we should not change the model's image size expectations\n",
    "    standardize_mode=model.meta_standardize, # Same goes for the standardization of values\n",
    "    seed=seed\n",
    ")\n",
    "\n",
    "gen_val = data_generator.DataGenerator(\n",
    "    samples=set_val[0],\n",
    "    labels=set_val[1],\n",
    "    path_imagedir=path_input,\n",
    "    image_format=image_format,\n",
    "    data_aug=data_aug,\n",
    "    resize=model.meta_input, # Applying transfer learning, means that we should not change the model's image size expectations\n",
    "    standardize_mode=model.meta_standardize, # Same goes for the standardization of values\n",
    "    seed=seed\n",
    ")"
   ]
  },
  {
   "cell_type": "markdown",
   "metadata": {
    "pycharm": {
     "name": "#%% md\n"
    }
   },
   "source": [
    "***\n",
    "\n",
    "### Step 12: Training\n",
    "\n",
    "To train a model, we provide the `train()` function with our callbacks and the training and validation generator.\n"
   ]
  },
  {
   "cell_type": "code",
   "execution_count": 13,
   "metadata": {
    "collapsed": false,
    "jupyter": {
     "outputs_hidden": false
    },
    "pycharm": {
     "name": "#%%\n"
    }
   },
   "outputs": [
    {
     "name": "stdout",
     "output_type": "stream",
     "text": [
      "Epoch 1/10\n"
     ]
    },
    {
     "name": "stderr",
     "output_type": "stream",
     "text": [
      "2022-09-13 13:59:49.634367: I tensorflow/stream_executor/cuda/cuda_dnn.cc:368] Loaded cuDNN version 8100\n",
      "2022-09-13 13:59:50.229233: I tensorflow/core/platform/default/subprocess.cc:304] Start cannot spawn child process: No such file or directory\n"
     ]
    },
    {
     "name": "stdout",
     "output_type": "stream",
     "text": [
      "129/129 [==============================] - 65s 452ms/step - loss: 0.2777 - categorical_accuracy: 0.7249 - val_loss: 0.1320 - val_categorical_accuracy: 0.8123 - lr: 1.0000e-04\n",
      "Epoch 2/10\n",
      "129/129 [==============================] - 52s 406ms/step - loss: 0.1758 - categorical_accuracy: 0.8154 - val_loss: 0.1042 - val_categorical_accuracy: 0.8959 - lr: 1.0000e-04\n",
      "Epoch 3/10\n",
      "129/129 [==============================] - 51s 398ms/step - loss: 0.1459 - categorical_accuracy: 0.8405 - val_loss: 0.1079 - val_categorical_accuracy: 0.8976 - lr: 1.0000e-04\n",
      "Epoch 4/10\n",
      "129/129 [==============================] - 51s 398ms/step - loss: 0.1116 - categorical_accuracy: 0.8651 - val_loss: 0.0760 - val_categorical_accuracy: 0.9044 - lr: 1.0000e-04\n",
      "Epoch 5/10\n",
      "129/129 [==============================] - 51s 394ms/step - loss: 0.1096 - categorical_accuracy: 0.8646 - val_loss: 0.0895 - val_categorical_accuracy: 0.8652 - lr: 1.0000e-04\n",
      "Epoch 6/10\n",
      "129/129 [==============================] - 51s 394ms/step - loss: 0.1048 - categorical_accuracy: 0.8705 - val_loss: 0.0879 - val_categorical_accuracy: 0.9198 - lr: 1.0000e-04\n",
      "Epoch 7/10\n",
      "129/129 [==============================] - 51s 394ms/step - loss: 0.1124 - categorical_accuracy: 0.8651 - val_loss: 0.0843 - val_categorical_accuracy: 0.9249 - lr: 1.0000e-04\n",
      "Epoch 8/10\n",
      "129/129 [==============================] - 51s 392ms/step - loss: 0.0953 - categorical_accuracy: 0.8795 - val_loss: 0.0713 - val_categorical_accuracy: 0.8959 - lr: 1.0000e-04\n",
      "Epoch 9/10\n",
      "129/129 [==============================] - 50s 385ms/step - loss: 0.0923 - categorical_accuracy: 0.8812 - val_loss: 0.0852 - val_categorical_accuracy: 0.9027 - lr: 1.0000e-04\n",
      "Epoch 10/10\n",
      "129/129 [==============================] - 51s 402ms/step - loss: 0.0928 - categorical_accuracy: 0.8805 - val_loss: 0.0778 - val_categorical_accuracy: 0.9061 - lr: 1.0000e-04\n",
      "Epoch 11/500\n",
      "129/129 [==============================] - 63s 411ms/step - loss: 0.2006 - categorical_accuracy: 0.8115 - val_loss: 0.1390 - val_categorical_accuracy: 0.8123 - lr: 1.0000e-05\n",
      "Epoch 12/500\n",
      "129/129 [==============================] - 52s 404ms/step - loss: 0.1214 - categorical_accuracy: 0.8641 - val_loss: 0.0867 - val_categorical_accuracy: 0.8823 - lr: 1.0000e-05\n",
      "Epoch 13/500\n",
      "129/129 [==============================] - 53s 412ms/step - loss: 0.1102 - categorical_accuracy: 0.8776 - val_loss: 0.0912 - val_categorical_accuracy: 0.9266 - lr: 1.0000e-05\n",
      "Epoch 14/500\n",
      "129/129 [==============================] - 49s 381ms/step - loss: 0.1018 - categorical_accuracy: 0.8878 - val_loss: 0.1455 - val_categorical_accuracy: 0.9147 - lr: 1.0000e-05\n",
      "Epoch 15/500\n",
      "129/129 [==============================] - 52s 403ms/step - loss: 0.0935 - categorical_accuracy: 0.8951 - val_loss: 0.0923 - val_categorical_accuracy: 0.9283 - lr: 1.0000e-05\n",
      "Epoch 16/500\n",
      "129/129 [==============================] - 55s 421ms/step - loss: 0.0942 - categorical_accuracy: 0.9044 - val_loss: 0.0661 - val_categorical_accuracy: 0.9147 - lr: 1.0000e-05\n",
      "Epoch 17/500\n",
      "129/129 [==============================] - 52s 401ms/step - loss: 0.0798 - categorical_accuracy: 0.9049 - val_loss: 0.0686 - val_categorical_accuracy: 0.9334 - lr: 1.0000e-05\n",
      "Epoch 18/500\n",
      "129/129 [==============================] - 51s 394ms/step - loss: 0.0715 - categorical_accuracy: 0.9117 - val_loss: 0.0737 - val_categorical_accuracy: 0.9147 - lr: 1.0000e-05\n",
      "Epoch 19/500\n",
      "129/129 [==============================] - 52s 405ms/step - loss: 0.0664 - categorical_accuracy: 0.9161 - val_loss: 0.0768 - val_categorical_accuracy: 0.9232 - lr: 1.0000e-05\n",
      "Epoch 20/500\n",
      "129/129 [==============================] - 53s 408ms/step - loss: 0.0654 - categorical_accuracy: 0.9237 - val_loss: 0.0641 - val_categorical_accuracy: 0.9130 - lr: 1.0000e-05\n",
      "Epoch 21/500\n",
      "129/129 [==============================] - 53s 412ms/step - loss: 0.0712 - categorical_accuracy: 0.9178 - val_loss: 0.0638 - val_categorical_accuracy: 0.9232 - lr: 1.0000e-05\n",
      "Epoch 22/500\n",
      "129/129 [==============================] - 51s 395ms/step - loss: 0.0630 - categorical_accuracy: 0.9198 - val_loss: 0.0638 - val_categorical_accuracy: 0.9352 - lr: 1.0000e-05\n",
      "Epoch 23/500\n",
      "129/129 [==============================] - 53s 411ms/step - loss: 0.0557 - categorical_accuracy: 0.9251 - val_loss: 0.0542 - val_categorical_accuracy: 0.9488 - lr: 1.0000e-05\n",
      "Epoch 24/500\n",
      "129/129 [==============================] - 54s 413ms/step - loss: 0.0488 - categorical_accuracy: 0.9349 - val_loss: 0.0488 - val_categorical_accuracy: 0.9420 - lr: 1.0000e-05\n",
      "Epoch 25/500\n",
      "129/129 [==============================] - 53s 410ms/step - loss: 0.0527 - categorical_accuracy: 0.9302 - val_loss: 0.0539 - val_categorical_accuracy: 0.9352 - lr: 1.0000e-05\n",
      "Epoch 26/500\n",
      "129/129 [==============================] - 51s 391ms/step - loss: 0.0513 - categorical_accuracy: 0.9334 - val_loss: 0.0767 - val_categorical_accuracy: 0.9369 - lr: 1.0000e-05\n",
      "Epoch 27/500\n",
      "129/129 [==============================] - 51s 396ms/step - loss: 0.0543 - categorical_accuracy: 0.9290 - val_loss: 0.0509 - val_categorical_accuracy: 0.9437 - lr: 1.0000e-05\n",
      "Epoch 28/500\n",
      "129/129 [==============================] - 52s 399ms/step - loss: 0.0493 - categorical_accuracy: 0.9376 - val_loss: 0.0701 - val_categorical_accuracy: 0.9096 - lr: 1.0000e-05\n",
      "Epoch 29/500\n",
      "129/129 [==============================] - ETA: 0s - loss: 0.0493 - categorical_accuracy: 0.9320\n",
      "Epoch 29: ReduceLROnPlateau reducing learning rate to 9.999999747378752e-07.\n",
      "129/129 [==============================] - 52s 398ms/step - loss: 0.0493 - categorical_accuracy: 0.9320 - val_loss: 0.0673 - val_categorical_accuracy: 0.9454 - lr: 1.0000e-05\n",
      "Epoch 30/500\n",
      "129/129 [==============================] - 52s 404ms/step - loss: 0.0479 - categorical_accuracy: 0.9359 - val_loss: 0.0416 - val_categorical_accuracy: 0.9403 - lr: 1.0000e-06\n",
      "Epoch 31/500\n",
      "129/129 [==============================] - 51s 393ms/step - loss: 0.0469 - categorical_accuracy: 0.9351 - val_loss: 0.0533 - val_categorical_accuracy: 0.9300 - lr: 1.0000e-06\n",
      "Epoch 32/500\n",
      "129/129 [==============================] - 51s 393ms/step - loss: 0.0476 - categorical_accuracy: 0.9395 - val_loss: 0.0497 - val_categorical_accuracy: 0.9352 - lr: 1.0000e-06\n",
      "Epoch 33/500\n",
      "129/129 [==============================] - 50s 390ms/step - loss: 0.0445 - categorical_accuracy: 0.9349 - val_loss: 0.0502 - val_categorical_accuracy: 0.9386 - lr: 1.0000e-06\n",
      "Epoch 34/500\n",
      "129/129 [==============================] - 51s 395ms/step - loss: 0.0447 - categorical_accuracy: 0.9402 - val_loss: 0.0462 - val_categorical_accuracy: 0.9471 - lr: 1.0000e-06\n",
      "Epoch 35/500\n",
      "129/129 [==============================] - ETA: 0s - loss: 0.0452 - categorical_accuracy: 0.9363\n",
      "Epoch 35: ReduceLROnPlateau reducing learning rate to 1e-07.\n",
      "129/129 [==============================] - 51s 393ms/step - loss: 0.0452 - categorical_accuracy: 0.9363 - val_loss: 0.0447 - val_categorical_accuracy: 0.9488 - lr: 1.0000e-06\n",
      "Epoch 36/500\n",
      "129/129 [==============================] - 54s 416ms/step - loss: 0.0432 - categorical_accuracy: 0.9373 - val_loss: 0.0399 - val_categorical_accuracy: 0.9420 - lr: 1.0000e-07\n",
      "Epoch 37/500\n",
      "129/129 [==============================] - 52s 404ms/step - loss: 0.0421 - categorical_accuracy: 0.9380 - val_loss: 0.0467 - val_categorical_accuracy: 0.9283 - lr: 1.0000e-07\n",
      "Epoch 38/500\n",
      "129/129 [==============================] - 54s 415ms/step - loss: 0.0476 - categorical_accuracy: 0.9359 - val_loss: 0.0406 - val_categorical_accuracy: 0.9454 - lr: 1.0000e-07\n",
      "Epoch 39/500\n",
      "129/129 [==============================] - 50s 389ms/step - loss: 0.0459 - categorical_accuracy: 0.9351 - val_loss: 0.0496 - val_categorical_accuracy: 0.9352 - lr: 1.0000e-07\n",
      "Epoch 40/500\n",
      "129/129 [==============================] - 52s 403ms/step - loss: 0.0402 - categorical_accuracy: 0.9441 - val_loss: 0.0455 - val_categorical_accuracy: 0.9369 - lr: 1.0000e-07\n",
      "Epoch 41/500\n",
      "129/129 [==============================] - 52s 402ms/step - loss: 0.0444 - categorical_accuracy: 0.9373 - val_loss: 0.0546 - val_categorical_accuracy: 0.9539 - lr: 1.0000e-07\n",
      "Epoch 42/500\n",
      "129/129 [==============================] - 51s 396ms/step - loss: 0.0415 - categorical_accuracy: 0.9439 - val_loss: 0.0588 - val_categorical_accuracy: 0.9386 - lr: 1.0000e-07\n",
      "Epoch 43/500\n",
      "129/129 [==============================] - 51s 393ms/step - loss: 0.0382 - categorical_accuracy: 0.9424 - val_loss: 0.0482 - val_categorical_accuracy: 0.9266 - lr: 1.0000e-07\n",
      "Epoch 44/500\n",
      "129/129 [==============================] - 52s 402ms/step - loss: 0.0472 - categorical_accuracy: 0.9373 - val_loss: 0.0646 - val_categorical_accuracy: 0.9420 - lr: 1.0000e-07\n",
      "Epoch 45/500\n",
      "129/129 [==============================] - 53s 412ms/step - loss: 0.0490 - categorical_accuracy: 0.9344 - val_loss: 0.0392 - val_categorical_accuracy: 0.9471 - lr: 1.0000e-07\n",
      "Epoch 46/500\n",
      "129/129 [==============================] - 52s 403ms/step - loss: 0.0409 - categorical_accuracy: 0.9446 - val_loss: 0.0569 - val_categorical_accuracy: 0.9420 - lr: 1.0000e-07\n",
      "Epoch 47/500\n",
      "129/129 [==============================] - 51s 390ms/step - loss: 0.0406 - categorical_accuracy: 0.9432 - val_loss: 0.0528 - val_categorical_accuracy: 0.9386 - lr: 1.0000e-07\n",
      "Epoch 48/500\n",
      "129/129 [==============================] - 52s 402ms/step - loss: 0.0376 - categorical_accuracy: 0.9434 - val_loss: 0.0602 - val_categorical_accuracy: 0.9352 - lr: 1.0000e-07\n",
      "Epoch 49/500\n",
      "129/129 [==============================] - 51s 396ms/step - loss: 0.0429 - categorical_accuracy: 0.9380 - val_loss: 0.0406 - val_categorical_accuracy: 0.9386 - lr: 1.0000e-07\n",
      "Epoch 50/500\n",
      "129/129 [==============================] - 52s 406ms/step - loss: 0.0438 - categorical_accuracy: 0.9378 - val_loss: 0.0398 - val_categorical_accuracy: 0.9471 - lr: 1.0000e-07\n",
      "Epoch 51/500\n",
      "129/129 [==============================] - 52s 402ms/step - loss: 0.0418 - categorical_accuracy: 0.9422 - val_loss: 0.0577 - val_categorical_accuracy: 0.9317 - lr: 1.0000e-07\n",
      "Epoch 52/500\n",
      "129/129 [==============================] - 52s 405ms/step - loss: 0.0443 - categorical_accuracy: 0.9373 - val_loss: 0.0635 - val_categorical_accuracy: 0.9369 - lr: 1.0000e-07\n",
      "Epoch 53/500\n",
      "129/129 [==============================] - 52s 398ms/step - loss: 0.0425 - categorical_accuracy: 0.9400 - val_loss: 0.0490 - val_categorical_accuracy: 0.9317 - lr: 1.0000e-07\n",
      "Epoch 54/500\n",
      "129/129 [==============================] - 57s 437ms/step - loss: 0.0417 - categorical_accuracy: 0.9383 - val_loss: 0.0600 - val_categorical_accuracy: 0.9198 - lr: 1.0000e-07\n",
      "Epoch 55/500\n",
      "129/129 [==============================] - 52s 403ms/step - loss: 0.0406 - categorical_accuracy: 0.9393 - val_loss: 0.0418 - val_categorical_accuracy: 0.9334 - lr: 1.0000e-07\n",
      "Epoch 56/500\n",
      "129/129 [==============================] - 52s 399ms/step - loss: 0.0472 - categorical_accuracy: 0.9368 - val_loss: 0.0465 - val_categorical_accuracy: 0.9454 - lr: 1.0000e-07\n",
      "Epoch 57/500\n",
      "129/129 [==============================] - 52s 400ms/step - loss: 0.0441 - categorical_accuracy: 0.9388 - val_loss: 0.0529 - val_categorical_accuracy: 0.9334 - lr: 1.0000e-07\n",
      "Epoch 57: early stopping\n"
     ]
    }
   ],
   "source": [
    "history = model.train(\n",
    "    training_generator=gen_train,\n",
    "    validation_generator=gen_val,\n",
    "    epochs=epochs,\n",
    "    callbacks=callbacks,\n",
    "    # class_weights=class_weights, # Applying class weights is incompatible with the focal loss function we define in step 10. \n",
    "    transfer_learning=True\n",
    ")"
   ]
  },
  {
   "cell_type": "markdown",
   "metadata": {
    "pycharm": {
     "name": "#%% md\n"
    }
   },
   "source": [
    "***\n",
    "\n",
    "### Step 13: Prepare prediction\n",
    "\n",
    "Similar to our training preparations, we also need to create a `DataGenerator` for predicting labels for our test set.\n"
   ]
  },
  {
   "cell_type": "code",
   "execution_count": 14,
   "metadata": {
    "collapsed": false,
    "jupyter": {
     "outputs_hidden": false
    },
    "pycharm": {
     "name": "#%%\n"
    }
   },
   "outputs": [],
   "source": [
    "gen_test = data_generator.DataGenerator(\n",
    "    samples=set_test[0],\n",
    "    labels=None,\n",
    "    path_imagedir=path_input,\n",
    "    image_format=image_format,\n",
    "    data_aug=None, # Cannot manipulate testing images\n",
    "    resize=model.meta_input, # Applying transfer learning, means that we should not change the model's image size expectations\n",
    "    standardize_mode=model.meta_standardize, # Same goes for the standardization of values\n",
    "    seed=seed\n",
    ")"
   ]
  },
  {
   "cell_type": "markdown",
   "metadata": {
    "pycharm": {
     "name": "#%% md\n"
    }
   },
   "source": [
    "***\n",
    "\n",
    "### Step 14: Prediction\n",
    "\n",
    "Predictions can be generated with the `model.predict()` function.\n",
    "For a simple network, the function returns an array of dimensions `(n_samples, n_classes)`."
   ]
  },
  {
   "cell_type": "code",
   "execution_count": 15,
   "metadata": {
    "collapsed": false,
    "jupyter": {
     "outputs_hidden": false
    },
    "pycharm": {
     "name": "#%%\n"
    }
   },
   "outputs": [
    {
     "name": "stdout",
     "output_type": "stream",
     "text": [
      "37/37 [==============================] - 12s 286ms/step\n"
     ]
    }
   ],
   "source": [
    "predictions = model.predict(\n",
    "    prediction_generator=gen_test\n",
    ")"
   ]
  },
  {
   "cell_type": "markdown",
   "metadata": {
    "pycharm": {
     "name": "#%% md\n"
    }
   },
   "source": [
    "***\n",
    "\n",
    "### Step 15: Evaluate fitting\n",
    "\n",
    "Let's visualize the fitting progress. We have two options here: \n",
    "\n",
    "- If we store the history, that is generated during training, we can simply call *AUCMEDI*'s `evaluate_fitting()` method.\n",
    "- If we stored the history using a `CSVLogger`, as we did in step 9.4, we can convert that into a history dictionary and use the exact same function `evaluate_fitting()`. Since the stored history contains no information about the transfer learning epochs, the vertical line is missing here."
   ]
  },
  {
   "cell_type": "code",
   "execution_count": 16,
   "metadata": {
    "collapsed": false,
    "jupyter": {
     "outputs_hidden": false
    },
    "pycharm": {
     "name": "#%%\n"
    }
   },
   "outputs": [
    {
     "name": "stderr",
     "output_type": "stream",
     "text": [
      "/home/main/.local/lib/python3.8/site-packages/plotnine/ggplot.py:718: PlotnineWarning: Saving 6.4 x 4.8 in image.\n",
      "/home/main/.local/lib/python3.8/site-packages/plotnine/ggplot.py:719: PlotnineWarning: Filename: assets/05_xray/out/img/plot.fitting_course.from_memory.png\n"
     ]
    },
    {
     "data": {
      "image/png": "[encoded data removed]",
      "text/plain": [
       "<Figure size 640x480 with 1 Axes>"
      ]
     },
     "metadata": {},
     "output_type": "display_data"
    },
    {
     "name": "stdout",
     "output_type": "stream",
     "text": [
      "\n"
     ]
    },
    {
     "name": "stderr",
     "output_type": "stream",
     "text": [
      "/home/main/.local/lib/python3.8/site-packages/plotnine/ggplot.py:718: PlotnineWarning: Saving 6.4 x 4.8 in image.\n",
      "/home/main/.local/lib/python3.8/site-packages/plotnine/ggplot.py:719: PlotnineWarning: Filename: assets/05_xray/out/img/plot.fitting_course.from_file.png\n"
     ]
    },
    {
     "data": {
      "image/png": "[encoded data removed]",
      "text/plain": [
       "<Figure size 640x480 with 1 Axes>"
      ]
     },
     "metadata": {},
     "output_type": "display_data"
    },
    {
     "name": "stdout",
     "output_type": "stream",
     "text": [
      "\n"
     ]
    }
   ],
   "source": [
    "from aucmedi import evaluation\n",
    "from aucmedi.utils.callbacks import *\n",
    "\n",
    "# Option 1: From history dictionary (in-memory)\n",
    "evaluation.fitting.evaluate_fitting(\n",
    "    train_history=history,\n",
    "    out_path=path_images,\n",
    "    suffix='from_memory',\n",
    "    show=True\n",
    ")\n",
    "\n",
    "# Option 2: From CSV\n",
    "loaded_history = csv_to_history(path_history)\n",
    "evaluation.fitting.evaluate_fitting(\n",
    "    train_history=loaded_history,\n",
    "    out_path=path_images,\n",
    "    suffix='from_file',\n",
    "    show=True\n",
    ")"
   ]
  },
  {
   "cell_type": "markdown",
   "metadata": {
    "pycharm": {
     "name": "#%% md\n"
    }
   },
   "source": [
    "***\n",
    "\n",
    "### Step 16: Evaluation\n",
    "\n",
    "To evaluate our model's performance, we can use *AUCMEDI*'s `evaluation` module."
   ]
  },
  {
   "cell_type": "code",
   "execution_count": 17,
   "metadata": {
    "collapsed": false,
    "jupyter": {
     "outputs_hidden": false
    },
    "pycharm": {
     "name": "#%%\n"
    }
   },
   "outputs": [],
   "source": [
    "from aucmedi.evaluation import metrics\n",
    "\n",
    "scores = metrics.compute_metrics(\n",
    "    preds=predictions,\n",
    "    labels=set_test[1],\n",
    "    n_labels=n_classes\n",
    ")"
   ]
  },
  {
   "cell_type": "markdown",
   "metadata": {
    "pycharm": {
     "name": "#%% md\n"
    }
   },
   "source": [
    "***\n",
    "\n",
    "### Step 17: Visualization\n",
    "\n",
    "In order for us to actually see the scores we achieved, we'll need some charts. In the `evaluation`, *AUCMEDI* also provides methods to visualize the results."
   ]
  },
  {
   "cell_type": "code",
   "execution_count": 18,
   "metadata": {
    "collapsed": false,
    "jupyter": {
     "outputs_hidden": false
    },
    "pycharm": {
     "name": "#%%\n"
    }
   },
   "outputs": [
    {
     "name": "stderr",
     "output_type": "stream",
     "text": [
      "/home/main/.local/lib/python3.8/site-packages/aucmedi/evaluation/performance.py:210: SettingWithCopyWarning: \n",
      "A value is trying to be set on a copy of a slice from a DataFrame.\n",
      "Try using .loc[row_indexer,col_indexer] = value instead\n",
      "\n",
      "See the caveats in the documentation: https://pandas.pydata.org/pandas-docs/stable/user_guide/indexing.html#returning-a-view-versus-a-copy\n",
      "/home/main/.local/lib/python3.8/site-packages/plotnine/ggplot.py:718: PlotnineWarning: Saving 12 x 9 in image.\n",
      "/home/main/.local/lib/python3.8/site-packages/plotnine/ggplot.py:719: PlotnineWarning: Filename: assets/05_xray/out/img/plot.performance.barplot.png\n"
     ]
    },
    {
     "data": {
      "image/png": "[encoded data removed]",
      "text/plain": [
       "<Figure size 640x480 with 9 Axes>"
      ]
     },
     "metadata": {},
     "output_type": "display_data"
    },
    {
     "name": "stdout",
     "output_type": "stream",
     "text": [
      "\n"
     ]
    },
    {
     "name": "stderr",
     "output_type": "stream",
     "text": [
      "/home/main/.local/lib/python3.8/site-packages/plotnine/ggplot.py:718: PlotnineWarning: Saving 10 x 9 in image.\n",
      "/home/main/.local/lib/python3.8/site-packages/plotnine/ggplot.py:719: PlotnineWarning: Filename: assets/05_xray/out/img/plot.performance.confusion_matrix.png\n"
     ]
    },
    {
     "data": {
      "image/png": "[encoded data removed]",
      "text/plain": [
       "<Figure size 640x480 with 1 Axes>"
      ]
     },
     "metadata": {},
     "output_type": "display_data"
    },
    {
     "name": "stdout",
     "output_type": "stream",
     "text": [
      "\n"
     ]
    },
    {
     "name": "stderr",
     "output_type": "stream",
     "text": [
      "/home/main/.local/lib/python3.8/site-packages/aucmedi/evaluation/performance.py:239: FutureWarning: Could not cast to float64, falling back to object. This behavior is deprecated. In a future version, when a dtype is passed to 'DataFrame', either all columns will be cast to that dtype, or a TypeError will be raised.\n",
      "/home/main/.local/lib/python3.8/site-packages/plotnine/ggplot.py:718: PlotnineWarning: Saving 10 x 9 in image.\n",
      "/home/main/.local/lib/python3.8/site-packages/plotnine/ggplot.py:719: PlotnineWarning: Filename: assets/05_xray/out/img/plot.performance.roc.png\n"
     ]
    },
    {
     "data": {
      "image/png": "[encoded data removed]",
      "text/plain": [
       "<Figure size 640x480 with 1 Axes>"
      ]
     },
     "metadata": {},
     "output_type": "display_data"
    },
    {
     "name": "stdout",
     "output_type": "stream",
     "text": [
      "\n"
     ]
    },
    {
     "data": {
      "text/html": [
       "<div>\n",
       "<style scoped>\n",
       "    .dataframe tbody tr th:only-of-type {\n",
       "        vertical-align: middle;\n",
       "    }\n",
       "\n",
       "    .dataframe tbody tr th {\n",
       "        vertical-align: top;\n",
       "    }\n",
       "\n",
       "    .dataframe thead th {\n",
       "        text-align: right;\n",
       "    }\n",
       "</style>\n",
       "<table border=\"1\" class=\"dataframe\">\n",
       "  <thead>\n",
       "    <tr style=\"text-align: right;\">\n",
       "      <th></th>\n",
       "      <th>metric</th>\n",
       "      <th>score</th>\n",
       "      <th>class</th>\n",
       "    </tr>\n",
       "  </thead>\n",
       "  <tbody>\n",
       "    <tr>\n",
       "      <th>0</th>\n",
       "      <td>TP</td>\n",
       "      <td>306.000000</td>\n",
       "      <td>NORMAL</td>\n",
       "    </tr>\n",
       "    <tr>\n",
       "      <th>1</th>\n",
       "      <td>TN</td>\n",
       "      <td>823.000000</td>\n",
       "      <td>NORMAL</td>\n",
       "    </tr>\n",
       "    <tr>\n",
       "      <th>2</th>\n",
       "      <td>FP</td>\n",
       "      <td>31.000000</td>\n",
       "      <td>NORMAL</td>\n",
       "    </tr>\n",
       "    <tr>\n",
       "      <th>3</th>\n",
       "      <td>FN</td>\n",
       "      <td>10.000000</td>\n",
       "      <td>NORMAL</td>\n",
       "    </tr>\n",
       "    <tr>\n",
       "      <th>4</th>\n",
       "      <td>Sensitivity</td>\n",
       "      <td>0.968354</td>\n",
       "      <td>NORMAL</td>\n",
       "    </tr>\n",
       "    <tr>\n",
       "      <th>5</th>\n",
       "      <td>Specificity</td>\n",
       "      <td>0.963700</td>\n",
       "      <td>NORMAL</td>\n",
       "    </tr>\n",
       "    <tr>\n",
       "      <th>6</th>\n",
       "      <td>Precision</td>\n",
       "      <td>0.908012</td>\n",
       "      <td>NORMAL</td>\n",
       "    </tr>\n",
       "    <tr>\n",
       "      <th>7</th>\n",
       "      <td>FPR</td>\n",
       "      <td>0.036300</td>\n",
       "      <td>NORMAL</td>\n",
       "    </tr>\n",
       "    <tr>\n",
       "      <th>8</th>\n",
       "      <td>FNR</td>\n",
       "      <td>0.031646</td>\n",
       "      <td>NORMAL</td>\n",
       "    </tr>\n",
       "    <tr>\n",
       "      <th>9</th>\n",
       "      <td>FDR</td>\n",
       "      <td>0.091988</td>\n",
       "      <td>NORMAL</td>\n",
       "    </tr>\n",
       "    <tr>\n",
       "      <th>10</th>\n",
       "      <td>Accuracy</td>\n",
       "      <td>0.964957</td>\n",
       "      <td>NORMAL</td>\n",
       "    </tr>\n",
       "    <tr>\n",
       "      <th>11</th>\n",
       "      <td>F1</td>\n",
       "      <td>0.937213</td>\n",
       "      <td>NORMAL</td>\n",
       "    </tr>\n",
       "    <tr>\n",
       "      <th>12</th>\n",
       "      <td>AUC</td>\n",
       "      <td>0.994053</td>\n",
       "      <td>NORMAL</td>\n",
       "    </tr>\n",
       "    <tr>\n",
       "      <th>13</th>\n",
       "      <td>TP</td>\n",
       "      <td>823.000000</td>\n",
       "      <td>PNEUMONIA</td>\n",
       "    </tr>\n",
       "    <tr>\n",
       "      <th>14</th>\n",
       "      <td>TN</td>\n",
       "      <td>306.000000</td>\n",
       "      <td>PNEUMONIA</td>\n",
       "    </tr>\n",
       "    <tr>\n",
       "      <th>15</th>\n",
       "      <td>FP</td>\n",
       "      <td>10.000000</td>\n",
       "      <td>PNEUMONIA</td>\n",
       "    </tr>\n",
       "    <tr>\n",
       "      <th>16</th>\n",
       "      <td>FN</td>\n",
       "      <td>31.000000</td>\n",
       "      <td>PNEUMONIA</td>\n",
       "    </tr>\n",
       "    <tr>\n",
       "      <th>17</th>\n",
       "      <td>Sensitivity</td>\n",
       "      <td>0.963700</td>\n",
       "      <td>PNEUMONIA</td>\n",
       "    </tr>\n",
       "    <tr>\n",
       "      <th>18</th>\n",
       "      <td>Specificity</td>\n",
       "      <td>0.968354</td>\n",
       "      <td>PNEUMONIA</td>\n",
       "    </tr>\n",
       "    <tr>\n",
       "      <th>19</th>\n",
       "      <td>Precision</td>\n",
       "      <td>0.987995</td>\n",
       "      <td>PNEUMONIA</td>\n",
       "    </tr>\n",
       "    <tr>\n",
       "      <th>20</th>\n",
       "      <td>FPR</td>\n",
       "      <td>0.031646</td>\n",
       "      <td>PNEUMONIA</td>\n",
       "    </tr>\n",
       "    <tr>\n",
       "      <th>21</th>\n",
       "      <td>FNR</td>\n",
       "      <td>0.036300</td>\n",
       "      <td>PNEUMONIA</td>\n",
       "    </tr>\n",
       "    <tr>\n",
       "      <th>22</th>\n",
       "      <td>FDR</td>\n",
       "      <td>0.012005</td>\n",
       "      <td>PNEUMONIA</td>\n",
       "    </tr>\n",
       "    <tr>\n",
       "      <th>23</th>\n",
       "      <td>Accuracy</td>\n",
       "      <td>0.964957</td>\n",
       "      <td>PNEUMONIA</td>\n",
       "    </tr>\n",
       "    <tr>\n",
       "      <th>24</th>\n",
       "      <td>F1</td>\n",
       "      <td>0.975697</td>\n",
       "      <td>PNEUMONIA</td>\n",
       "    </tr>\n",
       "    <tr>\n",
       "      <th>25</th>\n",
       "      <td>AUC</td>\n",
       "      <td>0.994053</td>\n",
       "      <td>PNEUMONIA</td>\n",
       "    </tr>\n",
       "  </tbody>\n",
       "</table>\n",
       "</div>"
      ],
      "text/plain": [
       "         metric       score      class\n",
       "0            TP  306.000000     NORMAL\n",
       "1            TN  823.000000     NORMAL\n",
       "2            FP   31.000000     NORMAL\n",
       "3            FN   10.000000     NORMAL\n",
       "4   Sensitivity    0.968354     NORMAL\n",
       "5   Specificity    0.963700     NORMAL\n",
       "6     Precision    0.908012     NORMAL\n",
       "7           FPR    0.036300     NORMAL\n",
       "8           FNR    0.031646     NORMAL\n",
       "9           FDR    0.091988     NORMAL\n",
       "10     Accuracy    0.964957     NORMAL\n",
       "11           F1    0.937213     NORMAL\n",
       "12          AUC    0.994053     NORMAL\n",
       "13           TP  823.000000  PNEUMONIA\n",
       "14           TN  306.000000  PNEUMONIA\n",
       "15           FP   10.000000  PNEUMONIA\n",
       "16           FN   31.000000  PNEUMONIA\n",
       "17  Sensitivity    0.963700  PNEUMONIA\n",
       "18  Specificity    0.968354  PNEUMONIA\n",
       "19    Precision    0.987995  PNEUMONIA\n",
       "20          FPR    0.031646  PNEUMONIA\n",
       "21          FNR    0.036300  PNEUMONIA\n",
       "22          FDR    0.012005  PNEUMONIA\n",
       "23     Accuracy    0.964957  PNEUMONIA\n",
       "24           F1    0.975697  PNEUMONIA\n",
       "25          AUC    0.994053  PNEUMONIA"
      ]
     },
     "execution_count": 18,
     "metadata": {},
     "output_type": "execute_result"
    }
   ],
   "source": [
    "from aucmedi.evaluation import performance\n",
    "\n",
    "performance.evaluate_performance(\n",
    "    preds=predictions,\n",
    "    labels=set_test[1],\n",
    "    out_path=path_images,\n",
    "    class_names=class_names,\n",
    "    show=True,\n",
    "    multi_label=is_multilabel\n",
    ")"
   ]
  },
  {
   "cell_type": "markdown",
   "metadata": {},
   "source": [
    "***\n",
    "\n",
    "### Step 18: XAI\n",
    "\n",
    "Understanding how a trained net decides, is invaluable. *AUCMEDI* comes with XAI functions, that can provide some insights. Please note: We have to build a separate `DataGenerator` and make an isolated prediction to calculate the Gradcam visualization."
   ]
  },
  {
   "cell_type": "code",
   "execution_count": 19,
   "metadata": {},
   "outputs": [
    {
     "name": "stdout",
     "output_type": "stream",
     "text": [
      "Found key 0! Belongs to class NORMAL.\n",
      "Found key 1! Belongs to class PNEUMONIA.\n"
     ]
    },
    {
     "name": "stderr",
     "output_type": "stream",
     "text": [
      "/home/main/.local/lib/python3.8/site-packages/tqdm/auto.py:22: TqdmWarning: IProgress not found. Please update jupyter and ipywidgets. See https://ipywidgets.readthedocs.io/en/stable/user_install.html\n"
     ]
    },
    {
     "name": "stdout",
     "output_type": "stream",
     "text": [
      "1/1 [==============================] - 1s 583ms/step\n",
      "XAI images have been generated!\n"
     ]
    }
   ],
   "source": [
    "from aucmedi.xai.decoder import xai_decoder\n",
    "\n",
    "os.makedirs(path_xai, exist_ok=True)\n",
    "\n",
    "# Multiclass: Find sample indices for each class\n",
    "def find_relevant_indices():\n",
    "    indices = {}\n",
    "    occurring_masks, counts = np.unique(set_test[1], axis=0, return_counts=True)\n",
    "\n",
    "    for mask_index, mask in enumerate(occurring_masks):\n",
    "        key = np.flatnonzero(mask)\n",
    "        filter = [sample_index for sample_index, sample in enumerate(set_test[1]) if (sample == mask).all()]\n",
    "        indices[key[0]] = filter\n",
    "    return indices\n",
    "\n",
    "# XAI: Multilabel\n",
    "def xai_multilabel():\n",
    "    rdn = random.randint(0, len(set_test[1]) - 1)\n",
    "    gen_xai_multilabel = data_generator.DataGenerator(\n",
    "        samples=[set_test[0][rdn]], # Array containing one sample!\n",
    "        labels=None,\n",
    "        path_imagedir=path_input,\n",
    "        image_format=image_format,\n",
    "        data_aug=None,\n",
    "        resize=model.meta_input,\n",
    "        standardize_mode=model.meta_standardize,\n",
    "        seed=seed\n",
    "    )\n",
    "    \n",
    "    # Make and save predictions\n",
    "    preds_xai_multilabel = model.predict(gen_xai_multilabel)\n",
    "    columns = class_names\n",
    "    preds_pd = pd.DataFrame(data=preds_xai_multilabel, columns=columns, index=[set_test[0][rdn]])\n",
    "    preds_pd.to_csv(path_xai_predictions)\n",
    "    \n",
    "    xai_decoder(gen_xai_multilabel, model, preds=None, method=\"gradcam\", out_path=path_xai)\n",
    "\n",
    "# XAI: Multiclass\n",
    "def xai_multiclass(): \n",
    "    relevant_indices = find_relevant_indices()\n",
    "    chosen_samples = []\n",
    "    for n in range(n_classes):\n",
    "        if n not in relevant_indices:\n",
    "            print('Could not find key {}. Must be empty.'.format(n))\n",
    "        else:\n",
    "            print('Found key {}! Belongs to class {}.'.format(n, class_names[n]))\n",
    "            values = relevant_indices[n]\n",
    "            rdn = random.randint(0, len(values) - 1)\n",
    "            chosen = values[rdn]\n",
    "            sample = set_test[0][chosen]\n",
    "            chosen_samples.append(sample)\n",
    "            \n",
    "    gen_xai_multiclass = data_generator.DataGenerator(\n",
    "        samples=chosen_samples,\n",
    "        labels=None,\n",
    "        path_imagedir=path_input,\n",
    "        image_format=image_format,\n",
    "        data_aug=None,\n",
    "        resize=model.meta_input,\n",
    "        standardize_mode=model.meta_standardize,\n",
    "        seed=seed\n",
    "    )\n",
    "    \n",
    "    # Make and save predictions\n",
    "    preds_xai_multiclass = model.predict(gen_xai_multiclass)\n",
    "    columns = [l for l in class_names if (project_name != 'dermatoscopy' or (project_name == 'dermatoscopy' and l != 'UNK'))]\n",
    "    index = chosen_samples\n",
    "    preds_pd = pd.DataFrame(data=preds_xai_multiclass, columns=columns, index=index)\n",
    "    preds_pd.to_csv(path_xai_predictions)\n",
    "        \n",
    "    xai_decoder(gen_xai_multiclass, model, preds=preds_xai_multiclass, method=\"gradcam\", out_path=path_xai)\n",
    "    \n",
    "xai_handler = {\n",
    "    'multilabel': xai_multilabel,\n",
    "    'multiclass': xai_multiclass\n",
    "}\n",
    "\n",
    "xai_handler['multilabel' if is_multilabel else 'multiclass']()\n",
    "print('XAI images have been generated!')\n"
   ]
  }
 ],
 "metadata": {
  "kernelspec": {
   "display_name": "Python 3 (ipykernel)",
   "language": "python",
   "name": "python3"
  },
  "language_info": {
   "codemirror_mode": {
    "name": "ipython",
    "version": 3
   },
   "file_extension": ".py",
   "mimetype": "text/x-python",
   "name": "python",
   "nbconvert_exporter": "python",
   "pygments_lexer": "ipython3",
   "version": "3.8.10"
  }
 },
 "nbformat": 4,
 "nbformat_minor": 4
}
